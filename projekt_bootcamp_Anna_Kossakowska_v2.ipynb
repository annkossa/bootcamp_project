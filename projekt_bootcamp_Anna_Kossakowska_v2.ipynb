{
 "cells": [
  {
   "cell_type": "markdown",
   "metadata": {},
   "source": [
    "## Projekt zaliczeniowy - Bootcamp data science\n",
    "***\n",
    "\n",
    "## Anna Kossakowska\n",
    "\n",
    "### Zastosowanie modeli klasyfikacji (binarnej) do przewidzenia czy pożyczka zostanie udzielona danemu klientowi z danymi parametrami wniosku\n",
    "\n",
    "***\n",
    "#### Spis treści\n",
    "1. Zaczytanie i analiza danych<br>\n",
    "    1.1. Imputacja braków danych<br>\n",
    "    1.2. Przekształcenie danych\n",
    "2. Selekcja zmiennych\n",
    "3. Modelowanie\n",
    "4. Porównanie modeli\n",
    "5. Ostateczna postać modelu\n",
    "\n",
    "***"
   ]
  },
  {
   "cell_type": "markdown",
   "metadata": {},
   "source": [
    "## Zaczytanie i analiza danych"
   ]
  },
  {
   "cell_type": "code",
   "execution_count": 2,
   "metadata": {},
   "outputs": [],
   "source": [
    "# podstawowe importy\n",
    "import pandas as pd\n",
    "import numpy as np\n",
    "from datetime import datetime, date\n",
    "\n",
    "import matplotlib.pyplot as plt\n",
    "%matplotlib inline"
   ]
  },
  {
   "cell_type": "code",
   "execution_count": 3,
   "metadata": {},
   "outputs": [],
   "source": [
    "data = pd.read_csv(\"dane/Train.csv\")"
   ]
  },
  {
   "cell_type": "code",
   "execution_count": 4,
   "metadata": {},
   "outputs": [
    {
     "data": {
      "text/html": [
       "<div>\n",
       "<style scoped>\n",
       "    .dataframe tbody tr th:only-of-type {\n",
       "        vertical-align: middle;\n",
       "    }\n",
       "\n",
       "    .dataframe tbody tr th {\n",
       "        vertical-align: top;\n",
       "    }\n",
       "\n",
       "    .dataframe thead th {\n",
       "        text-align: right;\n",
       "    }\n",
       "</style>\n",
       "<table border=\"1\" class=\"dataframe\">\n",
       "  <thead>\n",
       "    <tr style=\"text-align: right;\">\n",
       "      <th></th>\n",
       "      <th>ID</th>\n",
       "      <th>Gender</th>\n",
       "      <th>City</th>\n",
       "      <th>Monthly_Income</th>\n",
       "      <th>DOB</th>\n",
       "      <th>Lead_Creation_Date</th>\n",
       "      <th>Loan_Amount_Applied</th>\n",
       "      <th>Loan_Tenure_Applied</th>\n",
       "      <th>Existing_EMI</th>\n",
       "      <th>Employer_Name</th>\n",
       "      <th>...</th>\n",
       "      <th>Interest_Rate</th>\n",
       "      <th>Processing_Fee</th>\n",
       "      <th>EMI_Loan_Submitted</th>\n",
       "      <th>Filled_Form</th>\n",
       "      <th>Device_Type</th>\n",
       "      <th>Var2</th>\n",
       "      <th>Source</th>\n",
       "      <th>Var4</th>\n",
       "      <th>LoggedIn</th>\n",
       "      <th>Disbursed</th>\n",
       "    </tr>\n",
       "  </thead>\n",
       "  <tbody>\n",
       "    <tr>\n",
       "      <th>0</th>\n",
       "      <td>ID000002C20</td>\n",
       "      <td>Female</td>\n",
       "      <td>Delhi</td>\n",
       "      <td>20000</td>\n",
       "      <td>23-May-78</td>\n",
       "      <td>15-May-15</td>\n",
       "      <td>300000.0</td>\n",
       "      <td>5.0</td>\n",
       "      <td>0.0</td>\n",
       "      <td>CYBOSOL</td>\n",
       "      <td>...</td>\n",
       "      <td>NaN</td>\n",
       "      <td>NaN</td>\n",
       "      <td>NaN</td>\n",
       "      <td>N</td>\n",
       "      <td>Web-browser</td>\n",
       "      <td>G</td>\n",
       "      <td>S122</td>\n",
       "      <td>1</td>\n",
       "      <td>0</td>\n",
       "      <td>0</td>\n",
       "    </tr>\n",
       "    <tr>\n",
       "      <th>1</th>\n",
       "      <td>ID000004E40</td>\n",
       "      <td>Male</td>\n",
       "      <td>Mumbai</td>\n",
       "      <td>35000</td>\n",
       "      <td>07-Oct-85</td>\n",
       "      <td>04-May-15</td>\n",
       "      <td>200000.0</td>\n",
       "      <td>2.0</td>\n",
       "      <td>0.0</td>\n",
       "      <td>TATA CONSULTANCY SERVICES LTD (TCS)</td>\n",
       "      <td>...</td>\n",
       "      <td>13.25</td>\n",
       "      <td>NaN</td>\n",
       "      <td>6762.9</td>\n",
       "      <td>N</td>\n",
       "      <td>Web-browser</td>\n",
       "      <td>G</td>\n",
       "      <td>S122</td>\n",
       "      <td>3</td>\n",
       "      <td>0</td>\n",
       "      <td>0</td>\n",
       "    </tr>\n",
       "    <tr>\n",
       "      <th>2</th>\n",
       "      <td>ID000007H20</td>\n",
       "      <td>Male</td>\n",
       "      <td>Panchkula</td>\n",
       "      <td>22500</td>\n",
       "      <td>10-Oct-81</td>\n",
       "      <td>19-May-15</td>\n",
       "      <td>600000.0</td>\n",
       "      <td>4.0</td>\n",
       "      <td>0.0</td>\n",
       "      <td>ALCHEMIST HOSPITALS LTD</td>\n",
       "      <td>...</td>\n",
       "      <td>NaN</td>\n",
       "      <td>NaN</td>\n",
       "      <td>NaN</td>\n",
       "      <td>N</td>\n",
       "      <td>Web-browser</td>\n",
       "      <td>B</td>\n",
       "      <td>S143</td>\n",
       "      <td>1</td>\n",
       "      <td>0</td>\n",
       "      <td>0</td>\n",
       "    </tr>\n",
       "    <tr>\n",
       "      <th>3</th>\n",
       "      <td>ID000008I30</td>\n",
       "      <td>Male</td>\n",
       "      <td>Saharsa</td>\n",
       "      <td>35000</td>\n",
       "      <td>30-Nov-87</td>\n",
       "      <td>09-May-15</td>\n",
       "      <td>1000000.0</td>\n",
       "      <td>5.0</td>\n",
       "      <td>0.0</td>\n",
       "      <td>BIHAR GOVERNMENT</td>\n",
       "      <td>...</td>\n",
       "      <td>NaN</td>\n",
       "      <td>NaN</td>\n",
       "      <td>NaN</td>\n",
       "      <td>N</td>\n",
       "      <td>Web-browser</td>\n",
       "      <td>B</td>\n",
       "      <td>S143</td>\n",
       "      <td>3</td>\n",
       "      <td>0</td>\n",
       "      <td>0</td>\n",
       "    </tr>\n",
       "    <tr>\n",
       "      <th>4</th>\n",
       "      <td>ID000009J40</td>\n",
       "      <td>Male</td>\n",
       "      <td>Bengaluru</td>\n",
       "      <td>100000</td>\n",
       "      <td>17-Feb-84</td>\n",
       "      <td>20-May-15</td>\n",
       "      <td>500000.0</td>\n",
       "      <td>2.0</td>\n",
       "      <td>25000.0</td>\n",
       "      <td>GLOBAL EDGE SOFTWARE</td>\n",
       "      <td>...</td>\n",
       "      <td>NaN</td>\n",
       "      <td>NaN</td>\n",
       "      <td>NaN</td>\n",
       "      <td>N</td>\n",
       "      <td>Web-browser</td>\n",
       "      <td>B</td>\n",
       "      <td>S134</td>\n",
       "      <td>3</td>\n",
       "      <td>1</td>\n",
       "      <td>0</td>\n",
       "    </tr>\n",
       "  </tbody>\n",
       "</table>\n",
       "<p>5 rows × 26 columns</p>\n",
       "</div>"
      ],
      "text/plain": [
       "            ID  Gender       City  Monthly_Income        DOB  \\\n",
       "0  ID000002C20  Female      Delhi           20000  23-May-78   \n",
       "1  ID000004E40    Male     Mumbai           35000  07-Oct-85   \n",
       "2  ID000007H20    Male  Panchkula           22500  10-Oct-81   \n",
       "3  ID000008I30    Male    Saharsa           35000  30-Nov-87   \n",
       "4  ID000009J40    Male  Bengaluru          100000  17-Feb-84   \n",
       "\n",
       "  Lead_Creation_Date  Loan_Amount_Applied  Loan_Tenure_Applied  Existing_EMI  \\\n",
       "0          15-May-15             300000.0                  5.0           0.0   \n",
       "1          04-May-15             200000.0                  2.0           0.0   \n",
       "2          19-May-15             600000.0                  4.0           0.0   \n",
       "3          09-May-15            1000000.0                  5.0           0.0   \n",
       "4          20-May-15             500000.0                  2.0       25000.0   \n",
       "\n",
       "                         Employer_Name  ... Interest_Rate Processing_Fee  \\\n",
       "0                              CYBOSOL  ...           NaN            NaN   \n",
       "1  TATA CONSULTANCY SERVICES LTD (TCS)  ...         13.25            NaN   \n",
       "2              ALCHEMIST HOSPITALS LTD  ...           NaN            NaN   \n",
       "3                     BIHAR GOVERNMENT  ...           NaN            NaN   \n",
       "4                 GLOBAL EDGE SOFTWARE  ...           NaN            NaN   \n",
       "\n",
       "   EMI_Loan_Submitted Filled_Form  Device_Type  Var2  Source  Var4  LoggedIn  \\\n",
       "0                 NaN           N  Web-browser     G    S122     1         0   \n",
       "1              6762.9           N  Web-browser     G    S122     3         0   \n",
       "2                 NaN           N  Web-browser     B    S143     1         0   \n",
       "3                 NaN           N  Web-browser     B    S143     3         0   \n",
       "4                 NaN           N  Web-browser     B    S134     3         1   \n",
       "\n",
       "  Disbursed  \n",
       "0         0  \n",
       "1         0  \n",
       "2         0  \n",
       "3         0  \n",
       "4         0  \n",
       "\n",
       "[5 rows x 26 columns]"
      ]
     },
     "execution_count": 4,
     "metadata": {},
     "output_type": "execute_result"
    }
   ],
   "source": [
    "# porównanie kilku pierwszych wierszy z odpowiednikami z csv w Notepad++, pierwsza podstawowa wzrokowa weryfikacja formatów kolumn \n",
    "data.head()"
   ]
  },
  {
   "cell_type": "code",
   "execution_count": 5,
   "metadata": {},
   "outputs": [
    {
     "data": {
      "text/plain": [
       "(87020, 26)"
      ]
     },
     "execution_count": 5,
     "metadata": {},
     "output_type": "execute_result"
    }
   ],
   "source": [
    "data.shape"
   ]
  },
  {
   "cell_type": "markdown",
   "metadata": {},
   "source": [
    "### Imputacja braków danych"
   ]
  },
  {
   "cell_type": "code",
   "execution_count": 6,
   "metadata": {},
   "outputs": [
    {
     "name": "stdout",
     "output_type": "stream",
     "text": [
      "<class 'pandas.core.frame.DataFrame'>\n",
      "RangeIndex: 87020 entries, 0 to 87019\n",
      "Data columns (total 26 columns):\n",
      " #   Column                 Non-Null Count  Dtype  \n",
      "---  ------                 --------------  -----  \n",
      " 0   ID                     87020 non-null  object \n",
      " 1   Gender                 87020 non-null  object \n",
      " 2   City                   86017 non-null  object \n",
      " 3   Monthly_Income         87020 non-null  int64  \n",
      " 4   DOB                    87020 non-null  object \n",
      " 5   Lead_Creation_Date     87020 non-null  object \n",
      " 6   Loan_Amount_Applied    86949 non-null  float64\n",
      " 7   Loan_Tenure_Applied    86949 non-null  float64\n",
      " 8   Existing_EMI           86949 non-null  float64\n",
      " 9   Employer_Name          86949 non-null  object \n",
      " 10  Salary_Account         75256 non-null  object \n",
      " 11  Mobile_Verified        87020 non-null  object \n",
      " 12  Var5                   87020 non-null  int64  \n",
      " 13  Var1                   87020 non-null  object \n",
      " 14  Loan_Amount_Submitted  52407 non-null  float64\n",
      " 15  Loan_Tenure_Submitted  52407 non-null  float64\n",
      " 16  Interest_Rate          27726 non-null  float64\n",
      " 17  Processing_Fee         27420 non-null  float64\n",
      " 18  EMI_Loan_Submitted     27726 non-null  float64\n",
      " 19  Filled_Form            87020 non-null  object \n",
      " 20  Device_Type            87020 non-null  object \n",
      " 21  Var2                   87020 non-null  object \n",
      " 22  Source                 87020 non-null  object \n",
      " 23  Var4                   87020 non-null  int64  \n",
      " 24  LoggedIn               87020 non-null  int64  \n",
      " 25  Disbursed              87020 non-null  int64  \n",
      "dtypes: float64(8), int64(5), object(13)\n",
      "memory usage: 17.3+ MB\n"
     ]
    }
   ],
   "source": [
    "# weryfikacja braków danych\n",
    "data.info()"
   ]
  },
  {
   "cell_type": "code",
   "execution_count": 7,
   "metadata": {
    "scrolled": true
   },
   "outputs": [
    {
     "data": {
      "text/plain": [
       "ID                           0\n",
       "Gender                       0\n",
       "City                      1003\n",
       "Monthly_Income               0\n",
       "DOB                          0\n",
       "Lead_Creation_Date           0\n",
       "Loan_Amount_Applied         71\n",
       "Loan_Tenure_Applied         71\n",
       "Existing_EMI                71\n",
       "Employer_Name               71\n",
       "Salary_Account           11764\n",
       "Mobile_Verified              0\n",
       "Var5                         0\n",
       "Var1                         0\n",
       "Loan_Amount_Submitted    34613\n",
       "Loan_Tenure_Submitted    34613\n",
       "Interest_Rate            59294\n",
       "Processing_Fee           59600\n",
       "EMI_Loan_Submitted       59294\n",
       "Filled_Form                  0\n",
       "Device_Type                  0\n",
       "Var2                         0\n",
       "Source                       0\n",
       "Var4                         0\n",
       "LoggedIn                     0\n",
       "Disbursed                    0\n",
       "dtype: int64"
      ]
     },
     "execution_count": 7,
     "metadata": {},
     "output_type": "execute_result"
    }
   ],
   "source": [
    "data.isnull().sum()"
   ]
  },
  {
   "cell_type": "markdown",
   "metadata": {},
   "source": [
    "Oba sposoby weryfikacji pokazały, że braki danych występują dla 11 zmiennych.\n",
    "Weryfikacja, czy braki danych nie zostały oznaczone wartością inna niż NaN. Spojrzenie na najpopularniejsze wartości dla każdej zmiennej i lepsze zapoznanie sie ze zbiorem danych."
   ]
  },
  {
   "cell_type": "code",
   "execution_count": 8,
   "metadata": {},
   "outputs": [
    {
     "name": "stdout",
     "output_type": "stream",
     "text": [
      "ID\n",
      "ID016325X00    1\n",
      "ID009025D00    1\n",
      "ID060641J10    1\n",
      "ID016375V00    1\n",
      "ID018480U00    1\n",
      "              ..\n",
      "ID092848C30    1\n",
      "ID083055L00    1\n",
      "ID109784M40    1\n",
      "ID031877B20    1\n",
      "ID031446M10    1\n",
      "Name: ID, Length: 87020, dtype: int64\n",
      "Gender\n",
      "Male      49848\n",
      "Female    37172\n",
      "Name: Gender, dtype: int64\n",
      "City\n",
      "Delhi        12527\n",
      "Bengaluru    10824\n",
      "Mumbai       10795\n",
      "Hyderabad     7272\n",
      "Chennai       6916\n",
      "             ...  \n",
      "Doda             1\n",
      "Nabha            1\n",
      "Kupwara          1\n",
      "KAPADWANJ        1\n",
      "Mainpuri         1\n",
      "Name: City, Length: 697, dtype: int64\n",
      "Monthly_Income\n",
      "25000    5823\n",
      "20000    4523\n",
      "15000    4246\n",
      "30000    3216\n",
      "50000    2392\n",
      "         ... \n",
      "21612       1\n",
      "58490       1\n",
      "15521       1\n",
      "33974       1\n",
      "36978       1\n",
      "Name: Monthly_Income, Length: 5825, dtype: int64\n",
      "DOB\n",
      "11-Nov-80    306\n",
      "02-Jan-70    226\n",
      "01-Jan-70    148\n",
      "01-Jan-90    131\n",
      "01-Jan-80    111\n",
      "            ... \n",
      "12-Apr-54      1\n",
      "11-Feb-96      1\n",
      "12-Oct-62      1\n",
      "25-Aug-95      1\n",
      "12-Nov-71      1\n",
      "Name: DOB, Length: 11345, dtype: int64\n",
      "Lead_Creation_Date\n",
      "03-Jul-15    2315\n",
      "23-Jul-15    1994\n",
      "30-Jul-15    1297\n",
      "27-Jul-15    1292\n",
      "31-Jul-15    1268\n",
      "             ... \n",
      "24-May-15     502\n",
      "31-May-15     498\n",
      "12-Jul-15     475\n",
      "10-May-15     459\n",
      "14-Jun-15     373\n",
      "Name: Lead_Creation_Date, Length: 92, dtype: int64\n",
      "Loan_Amount_Applied\n",
      "0.0          28853\n",
      "100000.0     14311\n",
      "200000.0     13058\n",
      "300000.0      9995\n",
      "500000.0      9762\n",
      "             ...  \n",
      "560000.0         1\n",
      "475000.0         1\n",
      "460000.0         1\n",
      "1405000.0        1\n",
      "204000.0         1\n",
      "Name: Loan_Amount_Applied, Length: 277, dtype: int64\n",
      "Loan_Tenure_Applied\n",
      "0.0     33844\n",
      "5.0     19083\n",
      "3.0     13080\n",
      "2.0      9463\n",
      "4.0      6620\n",
      "1.0      4812\n",
      "10.0       40\n",
      "7.0         3\n",
      "6.0         2\n",
      "9.0         1\n",
      "8.0         1\n",
      "Name: Loan_Tenure_Applied, dtype: int64\n",
      "Existing_EMI\n",
      "0.0        58238\n",
      "5000.0      2695\n",
      "10000.0     1737\n",
      "3000.0      1581\n",
      "4000.0      1226\n",
      "           ...  \n",
      "11036.0        1\n",
      "1703.0         1\n",
      "2335.0         1\n",
      "2936.0         1\n",
      "1543.0         1\n",
      "Name: Existing_EMI, Length: 3753, dtype: int64\n",
      "Employer_Name\n",
      "0                                               4914\n",
      "TATA CONSULTANCY SERVICES LTD (TCS)              550\n",
      "COGNIZANT TECHNOLOGY SOLUTIONS INDIA PVT LTD     404\n",
      "ACCENTURE SERVICES PVT LTD                       324\n",
      "GOOGLE                                           301\n",
      "                                                ... \n",
      "BASF INDIA LTD                                     1\n",
      "LACTRIX MOTORS LTD                                 1\n",
      "ATUL BAJIRAO GURNULE                               1\n",
      "AJAXDOTCOM PVT LTD                                 1\n",
      "A.A.NAYAK CONSTRUCTIONS PVT. LTD                   1\n",
      "Name: Employer_Name, Length: 43565, dtype: int64\n",
      "Salary_Account\n",
      "HDFC Bank                                          17695\n",
      "ICICI Bank                                         13636\n",
      "State Bank of India                                11843\n",
      "Axis Bank                                           8783\n",
      "Citibank                                            2376\n",
      "Kotak Bank                                          2067\n",
      "IDBI Bank                                           1550\n",
      "Punjab National Bank                                1201\n",
      "Bank of India                                       1170\n",
      "Bank of Baroda                                      1126\n",
      "Standard Chartered Bank                              995\n",
      "Canara Bank                                          990\n",
      "Union Bank of India                                  951\n",
      "Yes Bank                                             779\n",
      "ING Vysya                                            678\n",
      "Corporation bank                                     649\n",
      "Indian Overseas Bank                                 612\n",
      "State Bank of Hyderabad                              597\n",
      "Indian Bank                                          555\n",
      "Oriental Bank of Commerce                            524\n",
      "IndusInd Bank                                        503\n",
      "Andhra Bank                                          485\n",
      "Central Bank of India                                445\n",
      "Syndicate Bank                                       415\n",
      "Bank of Maharasthra                                  406\n",
      "State Bank of Bikaner & Jaipur                       331\n",
      "HSBC                                                 328\n",
      "Karur Vysya Bank                                     326\n",
      "State Bank of Mysore                                 255\n",
      "Federal Bank                                         253\n",
      "Vijaya Bank                                          252\n",
      "Allahabad Bank                                       238\n",
      "UCO Bank                                             237\n",
      "State Bank of Travancore                             227\n",
      "Karnataka Bank                                       200\n",
      "Saraswat Bank                                        195\n",
      "United Bank of India                                 183\n",
      "Dena Bank                                            182\n",
      "State Bank of Patiala                                177\n",
      "South Indian Bank                                    160\n",
      "Deutsche Bank                                        125\n",
      "Abhyuday Co-op Bank Ltd                              108\n",
      "The Ratnakar Bank Ltd                                 83\n",
      "Tamil Nadu Mercantile Bank                            71\n",
      "Punjab & Sind bank                                    66\n",
      "J&K Bank                                              59\n",
      "Lakshmi Vilas bank                                    50\n",
      "Dhanalakshmi Bank Ltd                                 42\n",
      "State Bank of Indore                                  18\n",
      "Catholic Syrian Bank                                  14\n",
      "India Bulls                                           11\n",
      "GIC Housing Finance Ltd                                8\n",
      "B N P Paribas                                          8\n",
      "Firstrand Bank Limited                                 7\n",
      "Bank of Rajasthan                                      5\n",
      "Kerala Gramin Bank                                     4\n",
      "Industrial And Commercial Bank Of China Limited        2\n",
      "Name: Salary_Account, dtype: int64\n",
      "Mobile_Verified\n",
      "Y    56481\n",
      "N    30539\n",
      "Name: Mobile_Verified, dtype: int64\n",
      "Var5\n",
      "0     29087\n",
      "1     12236\n",
      "3      6759\n",
      "11     5204\n",
      "2      4485\n",
      "14     3662\n",
      "15     3509\n",
      "12     2989\n",
      "13     2622\n",
      "8      2515\n",
      "10     2427\n",
      "9      2281\n",
      "16     2097\n",
      "4      1815\n",
      "17     1691\n",
      "7      1489\n",
      "6       983\n",
      "5       975\n",
      "18      194\n",
      "Name: Var5, dtype: int64\n",
      "Var1\n",
      "HBXX    59294\n",
      "HBXC     9010\n",
      "HBXB     4479\n",
      "HAXA     2909\n",
      "HBXA     2123\n",
      "HAXB     2011\n",
      "HBXD     1964\n",
      "HAXC     1536\n",
      "HBXH      970\n",
      "HCXF      722\n",
      "HAYT      508\n",
      "HAVC      384\n",
      "HAXM      268\n",
      "HCXD      237\n",
      "HCYS      217\n",
      "HVYS      186\n",
      "HAZD      109\n",
      "HCXG       78\n",
      "HAXF       15\n",
      "Name: Var1, dtype: int64\n",
      "Loan_Amount_Submitted\n",
      "100000.0     6884\n",
      "200000.0     6583\n",
      "300000.0     5385\n",
      "500000.0     4849\n",
      "1000000.0    1644\n",
      "             ... \n",
      "2470000.0       1\n",
      "1660000.0       1\n",
      "1890000.0       1\n",
      "1990000.0       1\n",
      "1900000.0       1\n",
      "Name: Loan_Amount_Submitted, Length: 203, dtype: int64\n",
      "Loan_Tenure_Submitted\n",
      "5.0    20765\n",
      "4.0    15135\n",
      "3.0     8858\n",
      "2.0     5332\n",
      "1.0     2314\n",
      "6.0        3\n",
      "Name: Loan_Tenure_Submitted, dtype: int64\n",
      "Interest_Rate\n",
      "20.00    4707\n",
      "14.85    2016\n",
      "13.99    1699\n",
      "31.50    1696\n",
      "15.25    1553\n",
      "         ... \n",
      "14.55       2\n",
      "20.50       2\n",
      "15.60       1\n",
      "14.29       1\n",
      "15.15       1\n",
      "Name: Interest_Rate, Length: 73, dtype: int64\n",
      "Processing_Fee\n",
      "2000.0     3074\n",
      "1000.0     2067\n",
      "4000.0     2006\n",
      "3000.0     1286\n",
      "6000.0     1183\n",
      "           ... \n",
      "13464.0       1\n",
      "3969.0        1\n",
      "7326.0        1\n",
      "5920.0        1\n",
      "9120.0        1\n",
      "Name: Processing_Fee, Length: 571, dtype: int64\n",
      "EMI_Loan_Submitted\n",
      "3716.36     288\n",
      "7948.17     252\n",
      "5089.58     240\n",
      "5298.78     229\n",
      "8742.98     218\n",
      "           ... \n",
      "12558.05      1\n",
      "4530.63       1\n",
      "46168.22      1\n",
      "1674.50       1\n",
      "11463.79      1\n",
      "Name: EMI_Loan_Submitted, Length: 4530, dtype: int64\n",
      "Filled_Form\n",
      "N    67530\n",
      "Y    19490\n",
      "Name: Filled_Form, dtype: int64\n",
      "Device_Type\n",
      "Web-browser    64316\n",
      "Mobile         22704\n",
      "Name: Device_Type, dtype: int64\n",
      "Var2\n",
      "B    37280\n",
      "G    33032\n",
      "C    14210\n",
      "E     1315\n",
      "D      634\n",
      "F      544\n",
      "A        5\n",
      "Name: Var2, dtype: int64\n",
      "Source\n",
      "S122    38567\n",
      "S133    29885\n",
      "S159     5599\n",
      "S143     4332\n",
      "S127     1931\n",
      "S137     1724\n",
      "S134     1301\n",
      "S161      769\n",
      "S151      720\n",
      "S157      650\n",
      "S153      494\n",
      "S156      308\n",
      "S144      299\n",
      "S158      208\n",
      "S123       73\n",
      "S141       57\n",
      "S162       36\n",
      "S124       24\n",
      "S160       11\n",
      "S150       10\n",
      "S155        4\n",
      "S136        3\n",
      "S139        3\n",
      "S138        3\n",
      "S129        3\n",
      "S135        2\n",
      "S130        1\n",
      "S154        1\n",
      "S125        1\n",
      "S140        1\n",
      "Name: Source, dtype: int64\n",
      "Var4\n",
      "3    25260\n",
      "1    23906\n",
      "5    20266\n",
      "4     6577\n",
      "2     5931\n",
      "0     2546\n",
      "7     2302\n",
      "6      232\n",
      "Name: Var4, dtype: int64\n",
      "LoggedIn\n",
      "0    84466\n",
      "1     2554\n",
      "Name: LoggedIn, dtype: int64\n",
      "Disbursed\n",
      "0    85747\n",
      "1     1273\n",
      "Name: Disbursed, dtype: int64\n"
     ]
    }
   ],
   "source": [
    "for column in data.columns:\n",
    "    print(column)\n",
    "    print(data[column].value_counts())"
   ]
  },
  {
   "cell_type": "markdown",
   "metadata": {},
   "source": [
    "##### Wnioski \n",
    "- Zmienne Existing_EMI, Loan_Amount_Applied, Loan_Tenure_Applied  w przypadku braku zostaną wypełnione 0, bo taka wartość występowała już w dziedzinie tych zmiennych.\n",
    "- Zmienna Employer_Name wypełniona \"0\" (format znakowy, nie numeryczny). Uzasadnienie jak wyżej.\n",
    "- Zmienne Loan_Amount_Submitted, Loan_Tenure_Submitted, Interest_Rate, Processing_Fee, EMI_Loan_Submitted zostaną wypełnione wartością -1, aby odróżnić brak danych od pozostałych wartości tych zmiennych. Wartość 0 dla tych zmiennych nie istniała, stąd uzupełnienie -1. \n",
    "- Zmienna Salary_Account wypełniona wartością znakową 'NA'."
   ]
  },
  {
   "cell_type": "code",
   "execution_count": 9,
   "metadata": {},
   "outputs": [],
   "source": [
    "# Usunięcie zmiennych LoggedIn (zalecenie z opisu projektu) oraz ID (unikalny identyfikator, nie może być zmienna objaśniającą)\n",
    "data.drop([\"ID\",\"LoggedIn\"], axis=1, inplace=True)"
   ]
  },
  {
   "cell_type": "code",
   "execution_count": 10,
   "metadata": {},
   "outputs": [],
   "source": [
    "# wydawałoby się, że Lead_Creation_date, czy może świadczyć o stażu klienta w banku\n",
    "# wygląda, że wszystkie rekordy zostały utworzone w 2015, więc zmienna zostaje usunięta\n",
    "data.drop([\"Lead_Creation_Date\"], axis=1, inplace=True)\n",
    "# Usunięcie zmiennych Source i Var1, zmienne nieznane (brak opisu), przyjmujące wiele kategorii.\n",
    "data.drop([\"Source\", \"Var1\"], axis=1, inplace=True)"
   ]
  },
  {
   "cell_type": "code",
   "execution_count": 11,
   "metadata": {},
   "outputs": [],
   "source": [
    "# Imputacja dla zmiennych numerycznych \n",
    "data.Loan_Amount_Applied.fillna(0,inplace=True)\n",
    "data.Loan_Tenure_Applied.fillna(0,inplace=True)\n",
    "data.Existing_EMI.fillna(0,inplace=True)\n",
    "data.Loan_Amount_Submitted.fillna(-1, inplace=True)\n",
    "data.Loan_Tenure_Submitted.fillna(-1, inplace=True)\n",
    "data.Interest_Rate.fillna(-1, inplace=True)\n",
    "data.Processing_Fee.fillna(-1, inplace=True)\n",
    "data.EMI_Loan_Submitted.fillna(-1, inplace=True)"
   ]
  },
  {
   "cell_type": "code",
   "execution_count": 12,
   "metadata": {},
   "outputs": [],
   "source": [
    "# Imputacja dla zmiennych kategorycznych \n",
    "data.Employer_Name.fillna(\"0\",inplace=True)\n",
    "data.Salary_Account.fillna(\"NA\", inplace=True)"
   ]
  },
  {
   "cell_type": "code",
   "execution_count": 13,
   "metadata": {},
   "outputs": [],
   "source": [
    "# Braki występowały również dla zmiennej City, zostanie przekształcona w kolejnym etapie i w ten sposób braki zostaną wypełnione."
   ]
  },
  {
   "cell_type": "code",
   "execution_count": 14,
   "metadata": {},
   "outputs": [
    {
     "name": "stdout",
     "output_type": "stream",
     "text": [
      "<class 'pandas.core.frame.DataFrame'>\n",
      "RangeIndex: 87020 entries, 0 to 87019\n",
      "Data columns (total 21 columns):\n",
      " #   Column                 Non-Null Count  Dtype  \n",
      "---  ------                 --------------  -----  \n",
      " 0   Gender                 87020 non-null  object \n",
      " 1   City                   86017 non-null  object \n",
      " 2   Monthly_Income         87020 non-null  int64  \n",
      " 3   DOB                    87020 non-null  object \n",
      " 4   Loan_Amount_Applied    87020 non-null  float64\n",
      " 5   Loan_Tenure_Applied    87020 non-null  float64\n",
      " 6   Existing_EMI           87020 non-null  float64\n",
      " 7   Employer_Name          87020 non-null  object \n",
      " 8   Salary_Account         87020 non-null  object \n",
      " 9   Mobile_Verified        87020 non-null  object \n",
      " 10  Var5                   87020 non-null  int64  \n",
      " 11  Loan_Amount_Submitted  87020 non-null  float64\n",
      " 12  Loan_Tenure_Submitted  87020 non-null  float64\n",
      " 13  Interest_Rate          87020 non-null  float64\n",
      " 14  Processing_Fee         87020 non-null  float64\n",
      " 15  EMI_Loan_Submitted     87020 non-null  float64\n",
      " 16  Filled_Form            87020 non-null  object \n",
      " 17  Device_Type            87020 non-null  object \n",
      " 18  Var2                   87020 non-null  object \n",
      " 19  Var4                   87020 non-null  int64  \n",
      " 20  Disbursed              87020 non-null  int64  \n",
      "dtypes: float64(8), int64(4), object(9)\n",
      "memory usage: 13.9+ MB\n"
     ]
    }
   ],
   "source": [
    "# weryfikacja czy wszystkie braki zostały uzupełnione\n",
    "data.info()"
   ]
  },
  {
   "cell_type": "markdown",
   "metadata": {},
   "source": [
    "### Przekształcenia danych"
   ]
  },
  {
   "cell_type": "markdown",
   "metadata": {},
   "source": [
    "#### Utworzenie zmiennej wiek na podstawie DOB"
   ]
  },
  {
   "cell_type": "code",
   "execution_count": 15,
   "metadata": {
    "scrolled": true
   },
   "outputs": [
    {
     "data": {
      "text/html": [
       "<div>\n",
       "<style scoped>\n",
       "    .dataframe tbody tr th:only-of-type {\n",
       "        vertical-align: middle;\n",
       "    }\n",
       "\n",
       "    .dataframe tbody tr th {\n",
       "        vertical-align: top;\n",
       "    }\n",
       "\n",
       "    .dataframe thead th {\n",
       "        text-align: right;\n",
       "    }\n",
       "</style>\n",
       "<table border=\"1\" class=\"dataframe\">\n",
       "  <thead>\n",
       "    <tr style=\"text-align: right;\">\n",
       "      <th></th>\n",
       "      <th>age</th>\n",
       "      <th>DOB</th>\n",
       "    </tr>\n",
       "  </thead>\n",
       "  <tbody>\n",
       "    <tr>\n",
       "      <th>0</th>\n",
       "      <td>36</td>\n",
       "      <td>23-May-78</td>\n",
       "    </tr>\n",
       "    <tr>\n",
       "      <th>1</th>\n",
       "      <td>29</td>\n",
       "      <td>07-Oct-85</td>\n",
       "    </tr>\n",
       "    <tr>\n",
       "      <th>2</th>\n",
       "      <td>33</td>\n",
       "      <td>10-Oct-81</td>\n",
       "    </tr>\n",
       "    <tr>\n",
       "      <th>3</th>\n",
       "      <td>27</td>\n",
       "      <td>30-Nov-87</td>\n",
       "    </tr>\n",
       "    <tr>\n",
       "      <th>4</th>\n",
       "      <td>30</td>\n",
       "      <td>17-Feb-84</td>\n",
       "    </tr>\n",
       "  </tbody>\n",
       "</table>\n",
       "</div>"
      ],
      "text/plain": [
       "   age        DOB\n",
       "0   36  23-May-78\n",
       "1   29  07-Oct-85\n",
       "2   33  10-Oct-81\n",
       "3   27  30-Nov-87\n",
       "4   30  17-Feb-84"
      ]
     },
     "execution_count": 15,
     "metadata": {},
     "output_type": "execute_result"
    }
   ],
   "source": [
    "# dane pochodzą z 2015, dlatego wiek liczony na dzień 2015-01-01\n",
    "def calculate_age(born):\n",
    "    born = datetime.strptime(born, '%d-%b-%y').date()\n",
    "    today = date(2015, 1, 1)\n",
    "    return today.year - born.year - ((today.month, today.day) < (born.month, born.day))\n",
    "\n",
    "data['age'] = data['DOB'].apply(calculate_age)\n",
    "data[['age', 'DOB']].head()"
   ]
  },
  {
   "cell_type": "code",
   "execution_count": 16,
   "metadata": {},
   "outputs": [
    {
     "data": {
      "image/png": "[encoded data removed]",
      "text/plain": [
       "<Figure size 432x288 with 1 Axes>"
      ]
     },
     "metadata": {},
     "output_type": "display_data"
    }
   ],
   "source": [
    "hist_age = data['age'].hist(bins=30)"
   ]
  },
  {
   "cell_type": "code",
   "execution_count": 17,
   "metadata": {},
   "outputs": [
    {
     "data": {
      "text/html": [
       "<div>\n",
       "<style scoped>\n",
       "    .dataframe tbody tr th:only-of-type {\n",
       "        vertical-align: middle;\n",
       "    }\n",
       "\n",
       "    .dataframe tbody tr th {\n",
       "        vertical-align: top;\n",
       "    }\n",
       "\n",
       "    .dataframe thead th {\n",
       "        text-align: right;\n",
       "    }\n",
       "</style>\n",
       "<table border=\"1\" class=\"dataframe\">\n",
       "  <thead>\n",
       "    <tr style=\"text-align: right;\">\n",
       "      <th></th>\n",
       "      <th>age</th>\n",
       "      <th>DOB</th>\n",
       "    </tr>\n",
       "  </thead>\n",
       "  <tbody>\n",
       "    <tr>\n",
       "      <th>34</th>\n",
       "      <td>-50</td>\n",
       "      <td>28-May-64</td>\n",
       "    </tr>\n",
       "    <tr>\n",
       "      <th>58</th>\n",
       "      <td>-36</td>\n",
       "      <td>20-May-50</td>\n",
       "    </tr>\n",
       "    <tr>\n",
       "      <th>89</th>\n",
       "      <td>-54</td>\n",
       "      <td>01-Apr-68</td>\n",
       "    </tr>\n",
       "    <tr>\n",
       "      <th>92</th>\n",
       "      <td>-45</td>\n",
       "      <td>21-Oct-59</td>\n",
       "    </tr>\n",
       "    <tr>\n",
       "      <th>125</th>\n",
       "      <td>-52</td>\n",
       "      <td>04-Mar-66</td>\n",
       "    </tr>\n",
       "    <tr>\n",
       "      <th>...</th>\n",
       "      <td>...</td>\n",
       "      <td>...</td>\n",
       "    </tr>\n",
       "    <tr>\n",
       "      <th>86970</th>\n",
       "      <td>-54</td>\n",
       "      <td>17-Feb-68</td>\n",
       "    </tr>\n",
       "    <tr>\n",
       "      <th>86974</th>\n",
       "      <td>-52</td>\n",
       "      <td>15-Aug-66</td>\n",
       "    </tr>\n",
       "    <tr>\n",
       "      <th>86998</th>\n",
       "      <td>-42</td>\n",
       "      <td>31-Aug-56</td>\n",
       "    </tr>\n",
       "    <tr>\n",
       "      <th>87000</th>\n",
       "      <td>-48</td>\n",
       "      <td>01-Nov-62</td>\n",
       "    </tr>\n",
       "    <tr>\n",
       "      <th>87003</th>\n",
       "      <td>-45</td>\n",
       "      <td>01-Jan-60</td>\n",
       "    </tr>\n",
       "  </tbody>\n",
       "</table>\n",
       "<p>3868 rows × 2 columns</p>\n",
       "</div>"
      ],
      "text/plain": [
       "       age        DOB\n",
       "34     -50  28-May-64\n",
       "58     -36  20-May-50\n",
       "89     -54  01-Apr-68\n",
       "92     -45  21-Oct-59\n",
       "125    -52  04-Mar-66\n",
       "...    ...        ...\n",
       "86970  -54  17-Feb-68\n",
       "86974  -52  15-Aug-66\n",
       "86998  -42  31-Aug-56\n",
       "87000  -48  01-Nov-62\n",
       "87003  -45  01-Jan-60\n",
       "\n",
       "[3868 rows x 2 columns]"
      ]
     },
     "execution_count": 17,
     "metadata": {},
     "output_type": "execute_result"
    }
   ],
   "source": [
    "# Patrząc na hsitogram zmiennej age widzimy, że występuja obserwacje z wiekiem <0. Poniżej weryfikacja problemu.\n",
    "data[['age', 'DOB']][data['age']<0]"
   ]
  },
  {
   "cell_type": "code",
   "execution_count": 18,
   "metadata": {},
   "outputs": [
    {
     "data": {
      "text/plain": [
       "datetime.date(2064, 5, 28)"
      ]
     },
     "execution_count": 18,
     "metadata": {},
     "output_type": "execute_result"
    }
   ],
   "source": [
    "born = datetime.strptime('28-May-64', '%d-%b-%y').date()\n",
    "born"
   ]
  },
  {
   "cell_type": "code",
   "execution_count": 19,
   "metadata": {},
   "outputs": [],
   "source": [
    "# strptime rok w formacie yy zwraca przypisuje 20yy rok, stąd wartosci ujemne. Problem występuje dla lat poniżej lat 70."
   ]
  },
  {
   "cell_type": "code",
   "execution_count": 20,
   "metadata": {},
   "outputs": [
    {
     "data": {
      "text/html": [
       "<div>\n",
       "<style scoped>\n",
       "    .dataframe tbody tr th:only-of-type {\n",
       "        vertical-align: middle;\n",
       "    }\n",
       "\n",
       "    .dataframe tbody tr th {\n",
       "        vertical-align: top;\n",
       "    }\n",
       "\n",
       "    .dataframe thead th {\n",
       "        text-align: right;\n",
       "    }\n",
       "</style>\n",
       "<table border=\"1\" class=\"dataframe\">\n",
       "  <thead>\n",
       "    <tr style=\"text-align: right;\">\n",
       "      <th></th>\n",
       "      <th>age</th>\n",
       "      <th>DOB</th>\n",
       "    </tr>\n",
       "  </thead>\n",
       "  <tbody>\n",
       "    <tr>\n",
       "      <th>0</th>\n",
       "      <td>36</td>\n",
       "      <td>23-May-78</td>\n",
       "    </tr>\n",
       "    <tr>\n",
       "      <th>1</th>\n",
       "      <td>29</td>\n",
       "      <td>07-Oct-85</td>\n",
       "    </tr>\n",
       "    <tr>\n",
       "      <th>2</th>\n",
       "      <td>33</td>\n",
       "      <td>10-Oct-81</td>\n",
       "    </tr>\n",
       "    <tr>\n",
       "      <th>3</th>\n",
       "      <td>27</td>\n",
       "      <td>30-Nov-87</td>\n",
       "    </tr>\n",
       "    <tr>\n",
       "      <th>4</th>\n",
       "      <td>30</td>\n",
       "      <td>17-Feb-84</td>\n",
       "    </tr>\n",
       "  </tbody>\n",
       "</table>\n",
       "</div>"
      ],
      "text/plain": [
       "   age        DOB\n",
       "0   36  23-May-78\n",
       "1   29  07-Oct-85\n",
       "2   33  10-Oct-81\n",
       "3   27  30-Nov-87\n",
       "4   30  17-Feb-84"
      ]
     },
     "execution_count": 20,
     "metadata": {},
     "output_type": "execute_result"
    }
   ],
   "source": [
    "# modyfikacja funkcji zwracającej wiek\n",
    "def calculate_age(born):\n",
    "    born = datetime.strptime(born, '%d-%b-%y').date()\n",
    "    today = date(2015, 1, 1)\n",
    "    if born.year < 2015:\n",
    "        return today.year - born.year - ((today.month, today.day) < (born.month, born.day))\n",
    "    else:\n",
    "        return today.year - (born.year - 100) - ((today.month, today.day) < (born.month, born.day))\n",
    "    \n",
    "data['age'] = data['DOB'].apply(calculate_age)\n",
    "data[['age', 'DOB']].head()"
   ]
  },
  {
   "cell_type": "code",
   "execution_count": 21,
   "metadata": {
    "scrolled": true
   },
   "outputs": [
    {
     "data": {
      "image/png": "[encoded data removed]",
      "text/plain": [
       "<Figure size 432x288 with 1 Axes>"
      ]
     },
     "metadata": {},
     "output_type": "display_data"
    }
   ],
   "source": [
    "hist_age = data['age'].hist(bins=30)"
   ]
  },
  {
   "cell_type": "code",
   "execution_count": 22,
   "metadata": {},
   "outputs": [],
   "source": [
    "# Rozkład wieku wygląda teraz poprawnie."
   ]
  },
  {
   "cell_type": "code",
   "execution_count": 23,
   "metadata": {},
   "outputs": [],
   "source": [
    "# Usunięcie DOB (data urodzenia) ze zbioru danych. Będziemy wykorzystywać zmienną age.\n",
    "data.drop([\"DOB\"], axis=1, inplace=True)"
   ]
  },
  {
   "cell_type": "markdown",
   "metadata": {},
   "source": [
    "#### Konwersja zmiennych kategorycznych do binarnych"
   ]
  },
  {
   "cell_type": "code",
   "execution_count": 24,
   "metadata": {},
   "outputs": [],
   "source": [
    "# konwersja zmiennych Gender, Mobile_Verified, Filled_Form, Device_Type do binarnych\n",
    "data[\"Gender\"] = (data.Gender == \"Female\").astype(int)\n",
    "data[\"Mobile_Verified\"] = (data.Mobile_Verified=='Y').astype(int)\n",
    "data[\"Filled_Form\"] = (data.Filled_Form==\"Y\").astype(int)\n",
    "data[\"Device_Type\"] = (data.Device_Type==\"Mobile\").astype(int)"
   ]
  },
  {
   "cell_type": "markdown",
   "metadata": {},
   "source": [
    "#### Przekształcenie zmiennych kategorycznych z wieloma kategoriami\n",
    "Dla każdej zmiennej wybieramy top najpopularniejszych kategorii, pozostałe kumulujemy do jednej kategorii. \n",
    "W kolejnym kroku z tak przygotowanych kategorii powstaną zmienne binarne."
   ]
  },
  {
   "cell_type": "code",
   "execution_count": 25,
   "metadata": {},
   "outputs": [
    {
     "data": {
      "text/plain": [
       "Delhi            12527\n",
       "Bengaluru        10824\n",
       "Mumbai           10795\n",
       "Hyderabad         7272\n",
       "Chennai           6916\n",
       "Pune              5207\n",
       "Kolkata           2888\n",
       "Ahmedabad         1788\n",
       "Jaipur            1331\n",
       "Gurgaon           1212\n",
       "Coimbatore        1147\n",
       "Thane              905\n",
       "Chandigarh         870\n",
       "Surat              802\n",
       "Visakhapatnam      764\n",
       "Name: City, dtype: int64"
      ]
     },
     "execution_count": 25,
     "metadata": {},
     "output_type": "execute_result"
    }
   ],
   "source": [
    "data[\"City\"].value_counts()[:15]"
   ]
  },
  {
   "cell_type": "code",
   "execution_count": 26,
   "metadata": {},
   "outputs": [],
   "source": [
    "city_list = data[\"City\"].value_counts()[:11].index.tolist()\n",
    "data['City'] = data['City'].apply(lambda x: x if x in city_list else 'Other')"
   ]
  },
  {
   "cell_type": "code",
   "execution_count": 27,
   "metadata": {},
   "outputs": [
    {
     "data": {
      "text/plain": [
       "HDFC Bank                  17695\n",
       "ICICI Bank                 13636\n",
       "State Bank of India        11843\n",
       "NA                         11764\n",
       "Axis Bank                   8783\n",
       "Citibank                    2376\n",
       "Kotak Bank                  2067\n",
       "IDBI Bank                   1550\n",
       "Punjab National Bank        1201\n",
       "Bank of India               1170\n",
       "Bank of Baroda              1126\n",
       "Standard Chartered Bank      995\n",
       "Canara Bank                  990\n",
       "Union Bank of India          951\n",
       "Yes Bank                     779\n",
       "Name: Salary_Account, dtype: int64"
      ]
     },
     "execution_count": 27,
     "metadata": {},
     "output_type": "execute_result"
    }
   ],
   "source": [
    "data[\"Salary_Account\"].value_counts()[:15]"
   ]
  },
  {
   "cell_type": "code",
   "execution_count": 28,
   "metadata": {},
   "outputs": [],
   "source": [
    "salary_account_list = data[\"Salary_Account\"].value_counts()[:11].index.tolist()\n",
    "data['Salary_Account'] = data['Salary_Account'].apply(lambda x: x if x in salary_account_list else 'Other')"
   ]
  },
  {
   "cell_type": "code",
   "execution_count": 29,
   "metadata": {},
   "outputs": [
    {
     "data": {
      "text/plain": [
       "0                                               4985\n",
       "TATA CONSULTANCY SERVICES LTD (TCS)              550\n",
       "COGNIZANT TECHNOLOGY SOLUTIONS INDIA PVT LTD     404\n",
       "ACCENTURE SERVICES PVT LTD                       324\n",
       "GOOGLE                                           301\n",
       "HCL TECHNOLOGIES LTD                             250\n",
       "ICICI BANK LTD                                   239\n",
       "INDIAN AIR FORCE                                 191\n",
       "INFOSYS TECHNOLOGIES                             181\n",
       "GENPACT                                          179\n",
       "IBM CORPORATION                                  173\n",
       "INDIAN ARMY                                      171\n",
       "TYPE SLOWLY FOR AUTO FILL                        162\n",
       "WIPRO TECHNOLOGIES                               155\n",
       "HDFC BANK LTD                                    148\n",
       "IKYA HUMAN CAPITAL SOLUTIONS LTD                 142\n",
       "STATE GOVERNMENT                                 134\n",
       "INDIAN RAILWAY                                   130\n",
       "INDIAN NAVY                                      128\n",
       "ARMY                                             126\n",
       "Name: Employer_Name, dtype: int64"
      ]
     },
     "execution_count": 29,
     "metadata": {},
     "output_type": "execute_result"
    }
   ],
   "source": [
    "data[\"Employer_Name\"].value_counts()[:20]"
   ]
  },
  {
   "cell_type": "code",
   "execution_count": 30,
   "metadata": {},
   "outputs": [],
   "source": [
    "emp_list = data[\"Employer_Name\"].value_counts()[:5].index.tolist()\n",
    "data['Employer_Name'] = data['Employer_Name'].apply(lambda x: x if x in emp_list else 'Other')"
   ]
  },
  {
   "cell_type": "code",
   "execution_count": 31,
   "metadata": {},
   "outputs": [],
   "source": [
    "X = pd.get_dummies(data.drop([\"Disbursed\"], axis=1, inplace=False))"
   ]
  },
  {
   "cell_type": "code",
   "execution_count": 32,
   "metadata": {},
   "outputs": [
    {
     "data": {
      "text/plain": [
       "(87020, 53)"
      ]
     },
     "execution_count": 32,
     "metadata": {},
     "output_type": "execute_result"
    }
   ],
   "source": [
    "X.shape"
   ]
  },
  {
   "cell_type": "code",
   "execution_count": 33,
   "metadata": {},
   "outputs": [
    {
     "data": {
      "text/plain": [
       "Index(['Gender', 'Monthly_Income', 'Loan_Amount_Applied',\n",
       "       'Loan_Tenure_Applied', 'Existing_EMI', 'Mobile_Verified', 'Var5',\n",
       "       'Loan_Amount_Submitted', 'Loan_Tenure_Submitted', 'Interest_Rate',\n",
       "       'Processing_Fee', 'EMI_Loan_Submitted', 'Filled_Form', 'Device_Type',\n",
       "       'Var4', 'age', 'City_Ahmedabad', 'City_Bengaluru', 'City_Chennai',\n",
       "       'City_Coimbatore', 'City_Delhi', 'City_Gurgaon', 'City_Hyderabad',\n",
       "       'City_Jaipur', 'City_Kolkata', 'City_Mumbai', 'City_Other', 'City_Pune',\n",
       "       'Employer_Name_0', 'Employer_Name_ACCENTURE SERVICES PVT LTD',\n",
       "       'Employer_Name_COGNIZANT TECHNOLOGY SOLUTIONS INDIA PVT LTD',\n",
       "       'Employer_Name_GOOGLE', 'Employer_Name_Other',\n",
       "       'Employer_Name_TATA CONSULTANCY SERVICES LTD (TCS)',\n",
       "       'Salary_Account_Axis Bank', 'Salary_Account_Bank of Baroda',\n",
       "       'Salary_Account_Bank of India', 'Salary_Account_Citibank',\n",
       "       'Salary_Account_HDFC Bank', 'Salary_Account_ICICI Bank',\n",
       "       'Salary_Account_IDBI Bank', 'Salary_Account_Kotak Bank',\n",
       "       'Salary_Account_NA', 'Salary_Account_Other',\n",
       "       'Salary_Account_Punjab National Bank',\n",
       "       'Salary_Account_State Bank of India', 'Var2_A', 'Var2_B', 'Var2_C',\n",
       "       'Var2_D'],\n",
       "      dtype='object')"
      ]
     },
     "execution_count": 33,
     "metadata": {},
     "output_type": "execute_result"
    }
   ],
   "source": [
    "X.columns[:50]"
   ]
  },
  {
   "cell_type": "code",
   "execution_count": 34,
   "metadata": {},
   "outputs": [
    {
     "data": {
      "text/html": [
       "<div>\n",
       "<style scoped>\n",
       "    .dataframe tbody tr th:only-of-type {\n",
       "        vertical-align: middle;\n",
       "    }\n",
       "\n",
       "    .dataframe tbody tr th {\n",
       "        vertical-align: top;\n",
       "    }\n",
       "\n",
       "    .dataframe thead th {\n",
       "        text-align: right;\n",
       "    }\n",
       "</style>\n",
       "<table border=\"1\" class=\"dataframe\">\n",
       "  <thead>\n",
       "    <tr style=\"text-align: right;\">\n",
       "      <th></th>\n",
       "      <th>Gender</th>\n",
       "      <th>Monthly_Income</th>\n",
       "      <th>Loan_Amount_Applied</th>\n",
       "      <th>Loan_Tenure_Applied</th>\n",
       "      <th>Existing_EMI</th>\n",
       "      <th>Mobile_Verified</th>\n",
       "      <th>Var5</th>\n",
       "      <th>Loan_Amount_Submitted</th>\n",
       "      <th>Loan_Tenure_Submitted</th>\n",
       "      <th>Interest_Rate</th>\n",
       "      <th>...</th>\n",
       "      <th>Salary_Account_Other</th>\n",
       "      <th>Salary_Account_Punjab National Bank</th>\n",
       "      <th>Salary_Account_State Bank of India</th>\n",
       "      <th>Var2_A</th>\n",
       "      <th>Var2_B</th>\n",
       "      <th>Var2_C</th>\n",
       "      <th>Var2_D</th>\n",
       "      <th>Var2_E</th>\n",
       "      <th>Var2_F</th>\n",
       "      <th>Var2_G</th>\n",
       "    </tr>\n",
       "  </thead>\n",
       "  <tbody>\n",
       "    <tr>\n",
       "      <th>0</th>\n",
       "      <td>1</td>\n",
       "      <td>20000</td>\n",
       "      <td>300000.0</td>\n",
       "      <td>5.0</td>\n",
       "      <td>0.0</td>\n",
       "      <td>0</td>\n",
       "      <td>0</td>\n",
       "      <td>-1.0</td>\n",
       "      <td>-1.0</td>\n",
       "      <td>-1.00</td>\n",
       "      <td>...</td>\n",
       "      <td>0</td>\n",
       "      <td>0</td>\n",
       "      <td>0</td>\n",
       "      <td>0</td>\n",
       "      <td>0</td>\n",
       "      <td>0</td>\n",
       "      <td>0</td>\n",
       "      <td>0</td>\n",
       "      <td>0</td>\n",
       "      <td>1</td>\n",
       "    </tr>\n",
       "    <tr>\n",
       "      <th>1</th>\n",
       "      <td>0</td>\n",
       "      <td>35000</td>\n",
       "      <td>200000.0</td>\n",
       "      <td>2.0</td>\n",
       "      <td>0.0</td>\n",
       "      <td>1</td>\n",
       "      <td>13</td>\n",
       "      <td>200000.0</td>\n",
       "      <td>2.0</td>\n",
       "      <td>13.25</td>\n",
       "      <td>...</td>\n",
       "      <td>0</td>\n",
       "      <td>0</td>\n",
       "      <td>0</td>\n",
       "      <td>0</td>\n",
       "      <td>0</td>\n",
       "      <td>0</td>\n",
       "      <td>0</td>\n",
       "      <td>0</td>\n",
       "      <td>0</td>\n",
       "      <td>1</td>\n",
       "    </tr>\n",
       "    <tr>\n",
       "      <th>2</th>\n",
       "      <td>0</td>\n",
       "      <td>22500</td>\n",
       "      <td>600000.0</td>\n",
       "      <td>4.0</td>\n",
       "      <td>0.0</td>\n",
       "      <td>1</td>\n",
       "      <td>0</td>\n",
       "      <td>450000.0</td>\n",
       "      <td>4.0</td>\n",
       "      <td>-1.00</td>\n",
       "      <td>...</td>\n",
       "      <td>0</td>\n",
       "      <td>0</td>\n",
       "      <td>1</td>\n",
       "      <td>0</td>\n",
       "      <td>1</td>\n",
       "      <td>0</td>\n",
       "      <td>0</td>\n",
       "      <td>0</td>\n",
       "      <td>0</td>\n",
       "      <td>0</td>\n",
       "    </tr>\n",
       "    <tr>\n",
       "      <th>3</th>\n",
       "      <td>0</td>\n",
       "      <td>35000</td>\n",
       "      <td>1000000.0</td>\n",
       "      <td>5.0</td>\n",
       "      <td>0.0</td>\n",
       "      <td>1</td>\n",
       "      <td>10</td>\n",
       "      <td>920000.0</td>\n",
       "      <td>5.0</td>\n",
       "      <td>-1.00</td>\n",
       "      <td>...</td>\n",
       "      <td>0</td>\n",
       "      <td>0</td>\n",
       "      <td>1</td>\n",
       "      <td>0</td>\n",
       "      <td>1</td>\n",
       "      <td>0</td>\n",
       "      <td>0</td>\n",
       "      <td>0</td>\n",
       "      <td>0</td>\n",
       "      <td>0</td>\n",
       "    </tr>\n",
       "    <tr>\n",
       "      <th>4</th>\n",
       "      <td>0</td>\n",
       "      <td>100000</td>\n",
       "      <td>500000.0</td>\n",
       "      <td>2.0</td>\n",
       "      <td>25000.0</td>\n",
       "      <td>1</td>\n",
       "      <td>17</td>\n",
       "      <td>500000.0</td>\n",
       "      <td>2.0</td>\n",
       "      <td>-1.00</td>\n",
       "      <td>...</td>\n",
       "      <td>0</td>\n",
       "      <td>0</td>\n",
       "      <td>0</td>\n",
       "      <td>0</td>\n",
       "      <td>1</td>\n",
       "      <td>0</td>\n",
       "      <td>0</td>\n",
       "      <td>0</td>\n",
       "      <td>0</td>\n",
       "      <td>0</td>\n",
       "    </tr>\n",
       "  </tbody>\n",
       "</table>\n",
       "<p>5 rows × 53 columns</p>\n",
       "</div>"
      ],
      "text/plain": [
       "   Gender  Monthly_Income  Loan_Amount_Applied  Loan_Tenure_Applied  \\\n",
       "0       1           20000             300000.0                  5.0   \n",
       "1       0           35000             200000.0                  2.0   \n",
       "2       0           22500             600000.0                  4.0   \n",
       "3       0           35000            1000000.0                  5.0   \n",
       "4       0          100000             500000.0                  2.0   \n",
       "\n",
       "   Existing_EMI  Mobile_Verified  Var5  Loan_Amount_Submitted  \\\n",
       "0           0.0                0     0                   -1.0   \n",
       "1           0.0                1    13               200000.0   \n",
       "2           0.0                1     0               450000.0   \n",
       "3           0.0                1    10               920000.0   \n",
       "4       25000.0                1    17               500000.0   \n",
       "\n",
       "   Loan_Tenure_Submitted  Interest_Rate  ...  Salary_Account_Other  \\\n",
       "0                   -1.0          -1.00  ...                     0   \n",
       "1                    2.0          13.25  ...                     0   \n",
       "2                    4.0          -1.00  ...                     0   \n",
       "3                    5.0          -1.00  ...                     0   \n",
       "4                    2.0          -1.00  ...                     0   \n",
       "\n",
       "   Salary_Account_Punjab National Bank  Salary_Account_State Bank of India  \\\n",
       "0                                    0                                   0   \n",
       "1                                    0                                   0   \n",
       "2                                    0                                   1   \n",
       "3                                    0                                   1   \n",
       "4                                    0                                   0   \n",
       "\n",
       "   Var2_A  Var2_B  Var2_C  Var2_D  Var2_E  Var2_F  Var2_G  \n",
       "0       0       0       0       0       0       0       1  \n",
       "1       0       0       0       0       0       0       1  \n",
       "2       0       1       0       0       0       0       0  \n",
       "3       0       1       0       0       0       0       0  \n",
       "4       0       1       0       0       0       0       0  \n",
       "\n",
       "[5 rows x 53 columns]"
      ]
     },
     "execution_count": 34,
     "metadata": {},
     "output_type": "execute_result"
    }
   ],
   "source": [
    "X.head()"
   ]
  },
  {
   "cell_type": "markdown",
   "metadata": {},
   "source": [
    "#### Przypisanie zmiennej celu"
   ]
  },
  {
   "cell_type": "code",
   "execution_count": 35,
   "metadata": {},
   "outputs": [
    {
     "data": {
      "text/plain": [
       "0    0.985371\n",
       "1    0.014629\n",
       "Name: Disbursed, dtype: float64"
      ]
     },
     "execution_count": 35,
     "metadata": {},
     "output_type": "execute_result"
    }
   ],
   "source": [
    "y = data.Disbursed\n",
    "y.value_counts(normalize=True)"
   ]
  },
  {
   "cell_type": "markdown",
   "metadata": {},
   "source": [
    "Zmienna celu jest silnie niezbilansowana."
   ]
  },
  {
   "cell_type": "markdown",
   "metadata": {},
   "source": [
    "## Selekcja zmiennych"
   ]
  },
  {
   "cell_type": "markdown",
   "metadata": {},
   "source": [
    "#### Podział zbioru danych na uczące i testowe"
   ]
  },
  {
   "cell_type": "code",
   "execution_count": 36,
   "metadata": {},
   "outputs": [],
   "source": [
    "from sklearn.model_selection import train_test_split \n",
    "X_train, X_test, y_train, y_test = train_test_split(X, y, test_size=0.2)"
   ]
  },
  {
   "cell_type": "code",
   "execution_count": 37,
   "metadata": {},
   "outputs": [],
   "source": [
    "from sklearn.feature_selection import SelectFromModel\n",
    "from sklearn.model_selection import cross_val_score\n",
    "from sklearn.linear_model import LogisticRegression\n",
    "from sklearn.preprocessing import StandardScaler\n",
    "from sklearn.pipeline import Pipeline\n",
    "from sklearn.feature_selection import SelectKBest"
   ]
  },
  {
   "cell_type": "markdown",
   "metadata": {},
   "source": [
    "Zastosowano 3 metody selekcji zmiennych. Za pomocą każdej z metod wybrano 20 najistotniejszych zmiennych. Do ostatecznego zbioru treningowego wyselekcjonowano sumę (union) zbiorów zmiennych wybranych za pomocą poszczególnych metod."
   ]
  },
  {
   "cell_type": "code",
   "execution_count": 69,
   "metadata": {},
   "outputs": [
    {
     "data": {
      "text/html": [
       "<div>\n",
       "<style scoped>\n",
       "    .dataframe tbody tr th:only-of-type {\n",
       "        vertical-align: middle;\n",
       "    }\n",
       "\n",
       "    .dataframe tbody tr th {\n",
       "        vertical-align: top;\n",
       "    }\n",
       "\n",
       "    .dataframe thead th {\n",
       "        text-align: right;\n",
       "    }\n",
       "</style>\n",
       "<table border=\"1\" class=\"dataframe\">\n",
       "  <thead>\n",
       "    <tr style=\"text-align: right;\">\n",
       "      <th></th>\n",
       "      <th>Feature</th>\n",
       "      <th>Score</th>\n",
       "    </tr>\n",
       "  </thead>\n",
       "  <tbody>\n",
       "    <tr>\n",
       "      <th>6</th>\n",
       "      <td>Var5</td>\n",
       "      <td>934.062661</td>\n",
       "    </tr>\n",
       "    <tr>\n",
       "      <th>7</th>\n",
       "      <td>Loan_Amount_Submitted</td>\n",
       "      <td>305.277831</td>\n",
       "    </tr>\n",
       "    <tr>\n",
       "      <th>11</th>\n",
       "      <td>EMI_Loan_Submitted</td>\n",
       "      <td>184.981054</td>\n",
       "    </tr>\n",
       "    <tr>\n",
       "      <th>8</th>\n",
       "      <td>Loan_Tenure_Submitted</td>\n",
       "      <td>184.851147</td>\n",
       "    </tr>\n",
       "    <tr>\n",
       "      <th>5</th>\n",
       "      <td>Mobile_Verified</td>\n",
       "      <td>138.641434</td>\n",
       "    </tr>\n",
       "    <tr>\n",
       "      <th>0</th>\n",
       "      <td>Gender</td>\n",
       "      <td>132.062748</td>\n",
       "    </tr>\n",
       "    <tr>\n",
       "      <th>10</th>\n",
       "      <td>Processing_Fee</td>\n",
       "      <td>128.660032</td>\n",
       "    </tr>\n",
       "    <tr>\n",
       "      <th>42</th>\n",
       "      <td>Salary_Account_NA</td>\n",
       "      <td>114.120057</td>\n",
       "    </tr>\n",
       "    <tr>\n",
       "      <th>3</th>\n",
       "      <td>Loan_Tenure_Applied</td>\n",
       "      <td>109.547075</td>\n",
       "    </tr>\n",
       "    <tr>\n",
       "      <th>14</th>\n",
       "      <td>Var4</td>\n",
       "      <td>97.213261</td>\n",
       "    </tr>\n",
       "    <tr>\n",
       "      <th>12</th>\n",
       "      <td>Filled_Form</td>\n",
       "      <td>92.912199</td>\n",
       "    </tr>\n",
       "    <tr>\n",
       "      <th>15</th>\n",
       "      <td>age</td>\n",
       "      <td>82.849925</td>\n",
       "    </tr>\n",
       "    <tr>\n",
       "      <th>2</th>\n",
       "      <td>Loan_Amount_Applied</td>\n",
       "      <td>78.891921</td>\n",
       "    </tr>\n",
       "    <tr>\n",
       "      <th>39</th>\n",
       "      <td>Salary_Account_ICICI Bank</td>\n",
       "      <td>67.257000</td>\n",
       "    </tr>\n",
       "    <tr>\n",
       "      <th>38</th>\n",
       "      <td>Salary_Account_HDFC Bank</td>\n",
       "      <td>52.598458</td>\n",
       "    </tr>\n",
       "    <tr>\n",
       "      <th>28</th>\n",
       "      <td>Employer_Name_0</td>\n",
       "      <td>48.987532</td>\n",
       "    </tr>\n",
       "    <tr>\n",
       "      <th>20</th>\n",
       "      <td>City_Delhi</td>\n",
       "      <td>34.870314</td>\n",
       "    </tr>\n",
       "    <tr>\n",
       "      <th>26</th>\n",
       "      <td>City_Other</td>\n",
       "      <td>32.391507</td>\n",
       "    </tr>\n",
       "    <tr>\n",
       "      <th>32</th>\n",
       "      <td>Employer_Name_Other</td>\n",
       "      <td>22.578200</td>\n",
       "    </tr>\n",
       "    <tr>\n",
       "      <th>37</th>\n",
       "      <td>Salary_Account_Citibank</td>\n",
       "      <td>21.926092</td>\n",
       "    </tr>\n",
       "  </tbody>\n",
       "</table>\n",
       "</div>"
      ],
      "text/plain": [
       "                      Feature       Score\n",
       "6                        Var5  934.062661\n",
       "7       Loan_Amount_Submitted  305.277831\n",
       "11         EMI_Loan_Submitted  184.981054\n",
       "8       Loan_Tenure_Submitted  184.851147\n",
       "5             Mobile_Verified  138.641434\n",
       "0                      Gender  132.062748\n",
       "10             Processing_Fee  128.660032\n",
       "42          Salary_Account_NA  114.120057\n",
       "3         Loan_Tenure_Applied  109.547075\n",
       "14                       Var4   97.213261\n",
       "12                Filled_Form   92.912199\n",
       "15                        age   82.849925\n",
       "2         Loan_Amount_Applied   78.891921\n",
       "39  Salary_Account_ICICI Bank   67.257000\n",
       "38   Salary_Account_HDFC Bank   52.598458\n",
       "28            Employer_Name_0   48.987532\n",
       "20                 City_Delhi   34.870314\n",
       "26                 City_Other   32.391507\n",
       "32        Employer_Name_Other   22.578200\n",
       "37    Salary_Account_Citibank   21.926092"
      ]
     },
     "execution_count": 69,
     "metadata": {},
     "output_type": "execute_result"
    }
   ],
   "source": [
    "# K-best\n",
    "bestfeatures = SelectKBest(k=20)\n",
    "fit = bestfeatures.fit(X_train,y_train)\n",
    "dfscores = pd.DataFrame(fit.scores_)\n",
    "dfcolumns = pd.DataFrame(X_train.columns)\n",
    "featureScores = pd.concat([dfcolumns,dfscores],axis=1)\n",
    "featureScores.columns = ['Feature','Score']  \n",
    "kbest_features = featureScores.nlargest(20,'Score')\n",
    "kbest_features"
   ]
  },
  {
   "cell_type": "code",
   "execution_count": 70,
   "metadata": {
    "scrolled": false
   },
   "outputs": [
    {
     "data": {
      "image/png": "[encoded data removed]",
      "text/plain": [
       "<Figure size 432x288 with 1 Axes>"
      ]
     },
     "metadata": {},
     "output_type": "display_data"
    }
   ],
   "source": [
    "# Feature importance from ExtraTreesClassifier\n",
    "from sklearn.ensemble import ExtraTreesClassifier\n",
    "import matplotlib.pyplot as plt\n",
    "\n",
    "model = ExtraTreesClassifier()\n",
    "model.fit(X_train,y_train)\n",
    "\n",
    "feat_importances = pd.Series(model.feature_importances_, index=X_train.columns)\n",
    "feat_importances.nlargest(20).plot(kind='barh')\n",
    "plt.show()"
   ]
  },
  {
   "cell_type": "code",
   "execution_count": 71,
   "metadata": {},
   "outputs": [
    {
     "data": {
      "text/plain": [
       "Monthly_Income              0.128289\n",
       "age                         0.115862\n",
       "Existing_EMI                0.091686\n",
       "Var5                        0.084842\n",
       "Loan_Amount_Submitted       0.069317\n",
       "Loan_Amount_Applied         0.066902\n",
       "Loan_Tenure_Applied         0.042998\n",
       "EMI_Loan_Submitted          0.042148\n",
       "Processing_Fee              0.040868\n",
       "Interest_Rate               0.036529\n",
       "Loan_Tenure_Submitted       0.036270\n",
       "Var4                        0.024982\n",
       "Var2_G                      0.012391\n",
       "City_Delhi                  0.012196\n",
       "City_Mumbai                 0.012126\n",
       "City_Other                  0.011012\n",
       "Salary_Account_HDFC Bank    0.011001\n",
       "Gender                      0.010764\n",
       "City_Bengaluru              0.010220\n",
       "Salary_Account_Axis Bank    0.010090\n",
       "dtype: float64"
      ]
     },
     "execution_count": 71,
     "metadata": {},
     "output_type": "execute_result"
    }
   ],
   "source": [
    "extrees_features = feat_importances.nlargest(20)\n",
    "extrees_features"
   ]
  },
  {
   "cell_type": "code",
   "execution_count": 72,
   "metadata": {
    "scrolled": true
   },
   "outputs": [
    {
     "name": "stderr",
     "output_type": "stream",
     "text": [
      "C:\\Users\\Ania\\Anaconda3\\lib\\site-packages\\sklearn\\utils\\validation.py:71: FutureWarning: Pass n_features_to_select=20 as keyword args. From version 0.25 passing these as positional arguments will result in an error\n",
      "  FutureWarning)\n"
     ]
    },
    {
     "name": "stdout",
     "output_type": "stream",
     "text": [
      "Num Features: 20\n",
      "Selected Features: [False  True  True  True  True False  True  True  True  True  True  True\n",
      " False False  True  True False  True False False  True False False False\n",
      " False  True  True False False False False False False False  True False\n",
      " False False  True False False False False  True False False False False\n",
      " False False False False  True]\n",
      "Feature Ranking: [ 5  1  1  1  1 27  1  1  1  1  1  1 13 19  1  1 17  1  7 25  1 15  4 16\n",
      "  9  1  1  6 31 24 29 32 10 20  1 26 30 11  1  3 23 12 22  1 21  8 34  2\n",
      " 14 33 18 28  1]\n"
     ]
    }
   ],
   "source": [
    "# RFE\n",
    "from sklearn.feature_selection import RFE\n",
    "\n",
    "model = ExtraTreesClassifier()\n",
    "rfe = RFE(model, 20)\n",
    "fit = rfe.fit(X_train, y_train)\n",
    "print(\"Num Features: %d\" % fit.n_features_)\n",
    "print(\"Selected Features: %s\" % fit.support_)\n",
    "print(\"Feature Ranking: %s\" % fit.ranking_)"
   ]
  },
  {
   "cell_type": "code",
   "execution_count": 73,
   "metadata": {},
   "outputs": [
    {
     "data": {
      "text/plain": [
       "['Monthly_Income',\n",
       " 'Loan_Amount_Applied',\n",
       " 'Loan_Tenure_Applied',\n",
       " 'Existing_EMI',\n",
       " 'Var5',\n",
       " 'Loan_Amount_Submitted',\n",
       " 'Loan_Tenure_Submitted',\n",
       " 'Interest_Rate',\n",
       " 'Processing_Fee',\n",
       " 'EMI_Loan_Submitted',\n",
       " 'Var4',\n",
       " 'age',\n",
       " 'City_Bengaluru',\n",
       " 'City_Delhi',\n",
       " 'City_Mumbai',\n",
       " 'City_Other',\n",
       " 'Salary_Account_Axis Bank',\n",
       " 'Salary_Account_HDFC Bank',\n",
       " 'Salary_Account_Other',\n",
       " 'Var2_G']"
      ]
     },
     "execution_count": 73,
     "metadata": {},
     "output_type": "execute_result"
    }
   ],
   "source": [
    "rfe_features = X_train.columns[np.where(fit.support_ == True)[0]]\n",
    "rfe_features.tolist()"
   ]
  },
  {
   "cell_type": "code",
   "execution_count": 78,
   "metadata": {},
   "outputs": [
    {
     "name": "stdout",
     "output_type": "stream",
     "text": [
      "28\n"
     ]
    },
    {
     "data": {
      "text/plain": [
       "['Salary_Account_NA',\n",
       " 'Salary_Account_HDFC Bank',\n",
       " 'Loan_Amount_Applied',\n",
       " 'Employer_Name_0',\n",
       " 'age',\n",
       " 'Var4',\n",
       " 'Salary_Account_Other',\n",
       " 'Employer_Name_Other',\n",
       " 'Salary_Account_ICICI Bank',\n",
       " 'City_Delhi',\n",
       " 'Salary_Account_Citibank',\n",
       " 'Loan_Amount_Submitted',\n",
       " 'EMI_Loan_Submitted',\n",
       " 'Monthly_Income',\n",
       " 'Loan_Tenure_Applied',\n",
       " 'City_Bengaluru',\n",
       " 'Filled_Form',\n",
       " 'Var2_G',\n",
       " 'Salary_Account_Axis Bank',\n",
       " 'Mobile_Verified',\n",
       " 'Loan_Tenure_Submitted',\n",
       " 'Existing_EMI',\n",
       " 'Processing_Fee',\n",
       " 'Gender',\n",
       " 'City_Other',\n",
       " 'City_Mumbai',\n",
       " 'Var5',\n",
       " 'Interest_Rate']"
      ]
     },
     "execution_count": 78,
     "metadata": {},
     "output_type": "execute_result"
    }
   ],
   "source": [
    "selected_features = list(set().union(rfe_features.tolist(), extrees_features.index.to_list(), kbest_features['Feature']))\n",
    "print(len(selected_features))\n",
    "selected_features"
   ]
  },
  {
   "cell_type": "code",
   "execution_count": 82,
   "metadata": {},
   "outputs": [],
   "source": [
    "X_train = X_train[selected_features]\n",
    "X_test = X_test[selected_features]"
   ]
  },
  {
   "cell_type": "code",
   "execution_count": 83,
   "metadata": {},
   "outputs": [
    {
     "data": {
      "text/plain": [
       "(69616, 28)"
      ]
     },
     "execution_count": 83,
     "metadata": {},
     "output_type": "execute_result"
    }
   ],
   "source": [
    "X_train[selected_features].shape"
   ]
  },
  {
   "cell_type": "markdown",
   "metadata": {},
   "source": [
    "## Modelowanie"
   ]
  },
  {
   "cell_type": "code",
   "execution_count": 1,
   "metadata": {},
   "outputs": [
    {
     "name": "stderr",
     "output_type": "stream",
     "text": [
      "C:\\Users\\Ania\\Anaconda3\\lib\\site-packages\\dask\\dataframe\\utils.py:14: FutureWarning: pandas.util.testing is deprecated. Use the functions in the public API at pandas.testing instead.\n",
      "  import pandas.util.testing as tm\n"
     ]
    }
   ],
   "source": [
    "# Import pakietów\n",
    "\n",
    "from sklearn.model_selection import GridSearchCV\n",
    "\n",
    "from sklearn.pipeline import Pipeline\n",
    "from sklearn.pipeline import make_pipeline\n",
    "\n",
    "from sklearn.tree import DecisionTreeClassifier\n",
    "from sklearn.preprocessing import StandardScaler, MaxAbsScaler\n",
    "from sklearn.linear_model import LogisticRegression\n",
    "from sklearn.ensemble import AdaBoostClassifier\n",
    "from sklearn.svm import SVC, LinearSVC\n",
    "from sklearn.naive_bayes import GaussianNB\n",
    "from sklearn.ensemble import BaggingClassifier\n",
    "from xgboost.sklearn import XGBClassifier\n",
    "from sklearn.ensemble import RandomForestClassifier\n",
    "\n",
    "from sklearn.metrics import roc_curve, roc_auc_score, f1_score, accuracy_score, precision_score, recall_score, confusion_matrix"
   ]
  },
  {
   "cell_type": "markdown",
   "metadata": {},
   "source": [
    "#### Optymalizacja wybranych modeli\n",
    "Utworzono pipeline'y dla 4 klasyfikatorów: LogisticRegression, DecisionTreeClassifier, XGBClassifier, BaggingClassifier.\n",
    "W celu zaadresowania problemu niezbilansowania klas dla 2 klasyfikatorów w optymalizacji wykorzystano odpowiednie parametry - dla DecisionTreeClassifier - class_weight, dla XGBClassifier - scale_pos_weight."
   ]
  },
  {
   "cell_type": "code",
   "execution_count": 84,
   "metadata": {},
   "outputs": [
    {
     "name": "stdout",
     "output_type": "stream",
     "text": [
      "Pipeline(steps=[('scaler', StandardScaler()), ('model', LogisticRegression())])\n",
      "{'model__C': 0.01, 'model__penalty': 'l2'}\n"
     ]
    },
    {
     "name": "stderr",
     "output_type": "stream",
     "text": [
      "C:\\Users\\Ania\\Anaconda3\\lib\\site-packages\\sklearn\\metrics\\_classification.py:1221: UndefinedMetricWarning: Precision is ill-defined and being set to 0.0 due to no predicted samples. Use `zero_division` parameter to control this behavior.\n",
      "  _warn_prf(average, modifier, msg_start, len(result))\n"
     ]
    },
    {
     "name": "stdout",
     "output_type": "stream",
     "text": [
      "Pipeline(steps=[('model', DecisionTreeClassifier())])\n",
      "{'model__class_weight': {0: 1, 1: 1}, 'model__max_depth': 20, 'model__min_samples_leaf': 10}\n",
      "Pipeline(steps=[('model',\n",
      "                 XGBClassifier(base_score=None, booster=None,\n",
      "                               colsample_bylevel=None, colsample_bynode=None,\n",
      "                               colsample_bytree=None, gamma=None, gpu_id=None,\n",
      "                               importance_type='gain',\n",
      "                               interaction_constraints=None, learning_rate=None,\n",
      "                               max_delta_step=None, max_depth=5,\n",
      "                               min_child_weight=None, missing=nan,\n",
      "                               monotone_constraints=None, n_estimators=100,\n",
      "                               n_jobs=None, num_parallel_tree=None,\n",
      "                               random_state=None, reg_alpha=None,\n",
      "                               reg_lambda=None, scale_pos_weight=None,\n",
      "                               subsample=None, tree_method=None,\n",
      "                               validate_parameters=None, verbosity=None))])\n",
      "{'model__learning_rate': 0.1, 'model__n_estimators': 200, 'model__scale_pos_weight': 70}\n",
      "BaggingClassifier(base_estimator=DecisionTreeClassifier(), max_samples=0.5,\n",
      "                  n_estimators=100)\n",
      "{'base_estimator__class_weight': {0: 1, 1: 10}, 'base_estimator__max_depth': 20, 'base_estimator__min_samples_leaf': 10}\n"
     ]
    }
   ],
   "source": [
    "models = [\n",
    "    Pipeline([(\"scaler\", StandardScaler()),\n",
    "              (\"model\", LogisticRegression())]),\n",
    "    Pipeline([(\"model\", DecisionTreeClassifier())]),\n",
    "    Pipeline([(\"model\", XGBClassifier(max_depth=5))]),\n",
    "    BaggingClassifier(DecisionTreeClassifier(),\n",
    "                          n_estimators=100,\n",
    "                          max_samples=0.5)\n",
    "]\n",
    "\n",
    "params = [\n",
    "    {\"model__C\":[0.01, 0.1, 1, 10, 100],\n",
    "     \"model__penalty\":[\"l2\", \"l1\"]},\n",
    "    \n",
    "    {\"model__min_samples_leaf\":[10, 25, 50, 100],\n",
    "     \"model__max_depth\":[None, 10, 20],\n",
    "     \"model__class_weight\":[{0:1,1:1},{0:1,1:5},{0:1,1:10}]},\n",
    "    \n",
    "    {\"model__n_estimators\":[50, 100, 200],\n",
    "     \"model__learning_rate\":[0.01, 0.05, 0.1],\n",
    "     \"model__scale_pos_weight\":[70, 80]}, \n",
    "    \n",
    "    {\"base_estimator__min_samples_leaf\":[10, 25, 50],\n",
    "     \"base_estimator__max_depth\":[None, 10, 20],\n",
    "     \"base_estimator__class_weight\":[{0:1,1:1},{0:1,1:5},{0:1,1:10}]}\n",
    "]\n",
    "\n",
    "roc_auc = []\n",
    "precision = []\n",
    "f1 = []\n",
    "recall = []\n",
    "\n",
    "\n",
    "for model, param_grid in zip(models, params):\n",
    "    optimizer = GridSearchCV(model, param_grid, scoring=\"precision\", cv=10, n_jobs=-1)\n",
    "    optimizer.fit(X_train, y_train)\n",
    "    print(model)\n",
    "    print(optimizer.best_params_)\n",
    "    roc_auc.append(roc_auc_score(y_test, optimizer.best_estimator_.predict_proba(X_test)[:,1]))\n",
    "    precision.append(precision_score(y_test, optimizer.best_estimator_.predict(X_test)))\n",
    "    f1.append(f1_score(y_test, optimizer.best_estimator_.predict(X_test)))\n",
    "    recall.append(recall_score(y_test, optimizer.best_estimator_.predict(X_test)))"
   ]
  },
  {
   "cell_type": "code",
   "execution_count": 85,
   "metadata": {
    "scrolled": true
   },
   "outputs": [
    {
     "data": {
      "text/html": [
       "<div>\n",
       "<style scoped>\n",
       "    .dataframe tbody tr th:only-of-type {\n",
       "        vertical-align: middle;\n",
       "    }\n",
       "\n",
       "    .dataframe tbody tr th {\n",
       "        vertical-align: top;\n",
       "    }\n",
       "\n",
       "    .dataframe thead th {\n",
       "        text-align: right;\n",
       "    }\n",
       "</style>\n",
       "<table border=\"1\" class=\"dataframe\">\n",
       "  <thead>\n",
       "    <tr style=\"text-align: right;\">\n",
       "      <th></th>\n",
       "      <th>roc_auc</th>\n",
       "      <th>precision</th>\n",
       "      <th>f1</th>\n",
       "      <th>recall</th>\n",
       "    </tr>\n",
       "  </thead>\n",
       "  <tbody>\n",
       "    <tr>\n",
       "      <th>0</th>\n",
       "      <td>0.787866</td>\n",
       "      <td>0.000000</td>\n",
       "      <td>0.000000</td>\n",
       "      <td>0.000000</td>\n",
       "    </tr>\n",
       "    <tr>\n",
       "      <th>1</th>\n",
       "      <td>0.608018</td>\n",
       "      <td>0.153846</td>\n",
       "      <td>0.014599</td>\n",
       "      <td>0.007663</td>\n",
       "    </tr>\n",
       "    <tr>\n",
       "      <th>2</th>\n",
       "      <td>0.824986</td>\n",
       "      <td>0.046184</td>\n",
       "      <td>0.086044</td>\n",
       "      <td>0.628352</td>\n",
       "    </tr>\n",
       "    <tr>\n",
       "      <th>3</th>\n",
       "      <td>0.851149</td>\n",
       "      <td>0.400000</td>\n",
       "      <td>0.029520</td>\n",
       "      <td>0.015326</td>\n",
       "    </tr>\n",
       "  </tbody>\n",
       "</table>\n",
       "</div>"
      ],
      "text/plain": [
       "    roc_auc  precision        f1    recall\n",
       "0  0.787866   0.000000  0.000000  0.000000\n",
       "1  0.608018   0.153846  0.014599  0.007663\n",
       "2  0.824986   0.046184  0.086044  0.628352\n",
       "3  0.851149   0.400000  0.029520  0.015326"
      ]
     },
     "execution_count": 85,
     "metadata": {},
     "output_type": "execute_result"
    }
   ],
   "source": [
    "metrics = {\n",
    "     'roc_auc': roc_auc, \n",
    "     'precision': precision,\n",
    "     'f1': f1,\n",
    "     'recall': recall}\n",
    "metrics = pd.DataFrame(data=metrics)\n",
    "metrics"
   ]
  },
  {
   "cell_type": "markdown",
   "metadata": {},
   "source": [
    "## Porównanie modeli\n",
    "Do oceny modeli zostały wybrane metryki roc_auc, precision, f1 i recall. \n",
    "Trzy ostatnie mają największe znaczenie w kontekście niezbilansowanie danych, z którymi mamy do czynienia. \n",
    "Metryka accuracy jest w tym wypadku zupełnie niemiarodajna. Przykładowo, 98% accuracy może oznacza że wszystkie obserwacje zostały zaklasyfikowane jako 0."
   ]
  },
  {
   "cell_type": "code",
   "execution_count": 86,
   "metadata": {
    "scrolled": true
   },
   "outputs": [
    {
     "data": {
      "text/html": [
       "<div>\n",
       "<style scoped>\n",
       "    .dataframe tbody tr th:only-of-type {\n",
       "        vertical-align: middle;\n",
       "    }\n",
       "\n",
       "    .dataframe tbody tr th {\n",
       "        vertical-align: top;\n",
       "    }\n",
       "\n",
       "    .dataframe thead th {\n",
       "        text-align: right;\n",
       "    }\n",
       "</style>\n",
       "<table border=\"1\" class=\"dataframe\">\n",
       "  <thead>\n",
       "    <tr style=\"text-align: right;\">\n",
       "      <th></th>\n",
       "      <th>model</th>\n",
       "      <th>roc_auc</th>\n",
       "      <th>precision</th>\n",
       "      <th>f1</th>\n",
       "      <th>recall</th>\n",
       "    </tr>\n",
       "  </thead>\n",
       "  <tbody>\n",
       "    <tr>\n",
       "      <th>0</th>\n",
       "      <td>LogisticRegression</td>\n",
       "      <td>0.787866</td>\n",
       "      <td>0.000000</td>\n",
       "      <td>0.000000</td>\n",
       "      <td>0.000000</td>\n",
       "    </tr>\n",
       "    <tr>\n",
       "      <th>1</th>\n",
       "      <td>DecisionTreeClassifier</td>\n",
       "      <td>0.608018</td>\n",
       "      <td>0.153846</td>\n",
       "      <td>0.014599</td>\n",
       "      <td>0.007663</td>\n",
       "    </tr>\n",
       "    <tr>\n",
       "      <th>2</th>\n",
       "      <td>XGBClassifier</td>\n",
       "      <td>0.824986</td>\n",
       "      <td>0.046184</td>\n",
       "      <td>0.086044</td>\n",
       "      <td>0.628352</td>\n",
       "    </tr>\n",
       "    <tr>\n",
       "      <th>3</th>\n",
       "      <td>BaggingClassifier</td>\n",
       "      <td>0.851149</td>\n",
       "      <td>0.400000</td>\n",
       "      <td>0.029520</td>\n",
       "      <td>0.015326</td>\n",
       "    </tr>\n",
       "  </tbody>\n",
       "</table>\n",
       "</div>"
      ],
      "text/plain": [
       "                    model   roc_auc  precision        f1    recall\n",
       "0      LogisticRegression  0.787866   0.000000  0.000000  0.000000\n",
       "1  DecisionTreeClassifier  0.608018   0.153846  0.014599  0.007663\n",
       "2           XGBClassifier  0.824986   0.046184  0.086044  0.628352\n",
       "3       BaggingClassifier  0.851149   0.400000  0.029520  0.015326"
      ]
     },
     "execution_count": 86,
     "metadata": {},
     "output_type": "execute_result"
    }
   ],
   "source": [
    "metrics['model'] = ['LogisticRegression', 'DecisionTreeClassifier', 'XGBClassifier', 'BaggingClassifier']\n",
    "metrics = metrics[['model', 'roc_auc', 'precision', 'f1', 'recall']]\n",
    "metrics"
   ]
  },
  {
   "cell_type": "markdown",
   "metadata": {},
   "source": [
    "Pierwszy model klasyfikuje wszystkie obserwacje jako 0, co można stwierdzić na podstawie zerowych wartości miar precision, recall i f1. Drugi model osiąga najniższą wartość roc_auc. Pozostają nam dwa ostatnie modele, dla których metryki skrajnie się różnią. XGBClassifier osiąga recall na poziomie 0.62, co oznacza, że ok. 62% obserwacji wskazanych jako 1, rzeczywiście przyjmuje wartość 1. BaggingClassifier osiąga istotnie wyższą wartość precision przy bardzo niskim recall, co może świadczyć o tym, że wartości 1 są słabo przewidywane. Dla potwierdzenia przypuszczeń poniżej zaprezentowano macierz klasyfikacji dla BaggingClassifier."
   ]
  },
  {
   "cell_type": "code",
   "execution_count": 87,
   "metadata": {},
   "outputs": [
    {
     "name": "stdout",
     "output_type": "stream",
     "text": [
      "[[17137     6]\n",
      " [  257     4]]\n"
     ]
    }
   ],
   "source": [
    "y_predicted = optimizer.best_estimator_.predict_proba(X_test)[:,1] > 0.5\n",
    "print(confusion_matrix(y_test, y_predicted))"
   ]
  },
  {
   "cell_type": "markdown",
   "metadata": {},
   "source": [
    "Warto zauważyć, że zmieniając punkt odcięcia z domyślnej wartości 0.5 na wartość 0.1 dla BaggingClassifier otrzymujemy podobne wartości precision i f1 jak dla XGBClassifier. Manipulując wartością punktu odcięcia możemy radzić sobie z problemem silnie niezbilansowanych klas. Jednocześnie dla BaggingClassifier recall otrzymujemy o kilka p.p. wyższy niż dla XGBClassifier. BaggingClassifier uznajemy za najlepszy."
   ]
  },
  {
   "cell_type": "code",
   "execution_count": 88,
   "metadata": {
    "scrolled": true
   },
   "outputs": [
    {
     "name": "stdout",
     "output_type": "stream",
     "text": [
      "[[13900  3243]\n",
      " [   77   184]]\n",
      "0.053691275167785234\n",
      "0.7049808429118773\n",
      "0.09978308026030368\n"
     ]
    }
   ],
   "source": [
    "y_predicted = optimizer.best_estimator_.predict_proba(X_test)[:,1] > 0.1\n",
    "print(confusion_matrix(y_test, y_predicted))\n",
    "print(precision_score(y_test, y_predicted))\n",
    "print(recall_score(y_test, y_predicted))\n",
    "print(f1_score(y_test, y_predicted))"
   ]
  },
  {
   "cell_type": "markdown",
   "metadata": {},
   "source": [
    "## Ostateczna postać modelu"
   ]
  },
  {
   "cell_type": "code",
   "execution_count": 97,
   "metadata": {},
   "outputs": [
    {
     "data": {
      "text/plain": [
       "GridSearchCV(cv=10,\n",
       "             estimator=BaggingClassifier(base_estimator=DecisionTreeClassifier(),\n",
       "                                         max_samples=0.5, n_estimators=100),\n",
       "             n_jobs=-1,\n",
       "             param_grid={'base_estimator__class_weight': [{0: 1, 1: 10}],\n",
       "                         'base_estimator__max_depth': [20],\n",
       "                         'base_estimator__min_samples_leaf': [10]},\n",
       "             scoring='precision')"
      ]
     },
     "execution_count": 97,
     "metadata": {},
     "output_type": "execute_result"
    }
   ],
   "source": [
    "params = {\n",
    "     \"base_estimator__min_samples_leaf\":[10],\n",
    "     \"base_estimator__max_depth\":[20],\n",
    "     \"base_estimator__class_weight\":[{0:1, 1:10}]\n",
    "}\n",
    "    \n",
    "optimizer = GridSearchCV(BaggingClassifier(DecisionTreeClassifier(),n_estimators=100, max_samples=0.5), \n",
    "                         param_grid = params, scoring=\"precision\", cv=10, n_jobs=-1)\n",
    "optimizer.fit(X_train, y_train)"
   ]
  },
  {
   "cell_type": "code",
   "execution_count": 98,
   "metadata": {},
   "outputs": [
    {
     "name": "stdout",
     "output_type": "stream",
     "text": [
      "roc_auc: 0.8539134300317611\n",
      "precision: 0.05514597463874963\n",
      "f1: 0.10240963855421688\n",
      "recall: 0.7164750957854407\n"
     ]
    }
   ],
   "source": [
    "y_predicted = optimizer.best_estimator_.predict_proba(X_test)[:,1] > 0.1\n",
    "print('roc_auc:', roc_auc_score(y_test, optimizer.best_estimator_.predict_proba(X_test)[:,1]))  \n",
    "print('precision:', precision_score(y_test, y_predicted))  \n",
    "print('f1:', f1_score(y_test, y_predicted))\n",
    "print('recall:', recall_score(y_test, y_predicted))"
   ]
  },
  {
   "cell_type": "markdown",
   "metadata": {},
   "source": [
    "#### Istotność zmiennych\n",
    "\n",
    "Dla BaggingClassifier istotność zmiennych otrzymujemy poprzez uśrednienie istotności dla poszczególnych drzew, z których składa sie klasyfikator."
   ]
  },
  {
   "cell_type": "code",
   "execution_count": 104,
   "metadata": {},
   "outputs": [
    {
     "data": {
      "text/plain": [
       "array([0.01977599, 0.01680965, 0.04143976, 0.00063779, 0.10707752,\n",
       "       0.0177125 , 0.00658678, 0.00284294, 0.0140615 , 0.01174427,\n",
       "       0.00324349, 0.05414389, 0.05417346, 0.28715769, 0.03348106,\n",
       "       0.0094573 , 0.01032076, 0.01428519, 0.00686961, 0.0010686 ,\n",
       "       0.02582533, 0.08459052, 0.03549756, 0.00661909, 0.01126079,\n",
       "       0.00711852, 0.07632636, 0.03987209])"
      ]
     },
     "execution_count": 104,
     "metadata": {},
     "output_type": "execute_result"
    }
   ],
   "source": [
    "feature_importances = np.mean([\n",
    "    tree.feature_importances_ for tree in optimizer.best_estimator_.estimators_\n",
    "], axis=0)\n",
    "feature_importances"
   ]
  },
  {
   "cell_type": "code",
   "execution_count": 105,
   "metadata": {},
   "outputs": [
    {
     "data": {
      "image/png": "[encoded data removed]",
      "text/plain": [
       "<Figure size 432x288 with 1 Axes>"
      ]
     },
     "metadata": {},
     "output_type": "display_data"
    }
   ],
   "source": [
    "from matplotlib import pyplot\n",
    "pyplot.bar(range(len(feature_importances)), feature_importances)\n",
    "pyplot.show()"
   ]
  },
  {
   "cell_type": "code",
   "execution_count": 106,
   "metadata": {},
   "outputs": [
    {
     "data": {
      "text/html": [
       "<div>\n",
       "<style scoped>\n",
       "    .dataframe tbody tr th:only-of-type {\n",
       "        vertical-align: middle;\n",
       "    }\n",
       "\n",
       "    .dataframe tbody tr th {\n",
       "        vertical-align: top;\n",
       "    }\n",
       "\n",
       "    .dataframe thead th {\n",
       "        text-align: right;\n",
       "    }\n",
       "</style>\n",
       "<table border=\"1\" class=\"dataframe\">\n",
       "  <thead>\n",
       "    <tr style=\"text-align: right;\">\n",
       "      <th></th>\n",
       "      <th>columns</th>\n",
       "      <th>importances</th>\n",
       "    </tr>\n",
       "  </thead>\n",
       "  <tbody>\n",
       "    <tr>\n",
       "      <th>13</th>\n",
       "      <td>Monthly_Income</td>\n",
       "      <td>0.287158</td>\n",
       "    </tr>\n",
       "    <tr>\n",
       "      <th>4</th>\n",
       "      <td>age</td>\n",
       "      <td>0.107078</td>\n",
       "    </tr>\n",
       "    <tr>\n",
       "      <th>21</th>\n",
       "      <td>Existing_EMI</td>\n",
       "      <td>0.084591</td>\n",
       "    </tr>\n",
       "    <tr>\n",
       "      <th>26</th>\n",
       "      <td>Var5</td>\n",
       "      <td>0.076326</td>\n",
       "    </tr>\n",
       "    <tr>\n",
       "      <th>12</th>\n",
       "      <td>EMI_Loan_Submitted</td>\n",
       "      <td>0.054173</td>\n",
       "    </tr>\n",
       "    <tr>\n",
       "      <th>11</th>\n",
       "      <td>Loan_Amount_Submitted</td>\n",
       "      <td>0.054144</td>\n",
       "    </tr>\n",
       "    <tr>\n",
       "      <th>2</th>\n",
       "      <td>Loan_Amount_Applied</td>\n",
       "      <td>0.041440</td>\n",
       "    </tr>\n",
       "    <tr>\n",
       "      <th>27</th>\n",
       "      <td>Interest_Rate</td>\n",
       "      <td>0.039872</td>\n",
       "    </tr>\n",
       "    <tr>\n",
       "      <th>22</th>\n",
       "      <td>Processing_Fee</td>\n",
       "      <td>0.035498</td>\n",
       "    </tr>\n",
       "    <tr>\n",
       "      <th>14</th>\n",
       "      <td>Loan_Tenure_Applied</td>\n",
       "      <td>0.033481</td>\n",
       "    </tr>\n",
       "    <tr>\n",
       "      <th>20</th>\n",
       "      <td>Loan_Tenure_Submitted</td>\n",
       "      <td>0.025825</td>\n",
       "    </tr>\n",
       "    <tr>\n",
       "      <th>0</th>\n",
       "      <td>Salary_Account_NA</td>\n",
       "      <td>0.019776</td>\n",
       "    </tr>\n",
       "    <tr>\n",
       "      <th>5</th>\n",
       "      <td>Var4</td>\n",
       "      <td>0.017713</td>\n",
       "    </tr>\n",
       "    <tr>\n",
       "      <th>1</th>\n",
       "      <td>Salary_Account_HDFC Bank</td>\n",
       "      <td>0.016810</td>\n",
       "    </tr>\n",
       "    <tr>\n",
       "      <th>17</th>\n",
       "      <td>Var2_G</td>\n",
       "      <td>0.014285</td>\n",
       "    </tr>\n",
       "    <tr>\n",
       "      <th>8</th>\n",
       "      <td>Salary_Account_ICICI Bank</td>\n",
       "      <td>0.014061</td>\n",
       "    </tr>\n",
       "    <tr>\n",
       "      <th>9</th>\n",
       "      <td>City_Delhi</td>\n",
       "      <td>0.011744</td>\n",
       "    </tr>\n",
       "    <tr>\n",
       "      <th>24</th>\n",
       "      <td>City_Other</td>\n",
       "      <td>0.011261</td>\n",
       "    </tr>\n",
       "    <tr>\n",
       "      <th>16</th>\n",
       "      <td>Filled_Form</td>\n",
       "      <td>0.010321</td>\n",
       "    </tr>\n",
       "    <tr>\n",
       "      <th>15</th>\n",
       "      <td>City_Bengaluru</td>\n",
       "      <td>0.009457</td>\n",
       "    </tr>\n",
       "  </tbody>\n",
       "</table>\n",
       "</div>"
      ],
      "text/plain": [
       "                      columns  importances\n",
       "13             Monthly_Income     0.287158\n",
       "4                         age     0.107078\n",
       "21               Existing_EMI     0.084591\n",
       "26                       Var5     0.076326\n",
       "12         EMI_Loan_Submitted     0.054173\n",
       "11      Loan_Amount_Submitted     0.054144\n",
       "2         Loan_Amount_Applied     0.041440\n",
       "27              Interest_Rate     0.039872\n",
       "22             Processing_Fee     0.035498\n",
       "14        Loan_Tenure_Applied     0.033481\n",
       "20      Loan_Tenure_Submitted     0.025825\n",
       "0           Salary_Account_NA     0.019776\n",
       "5                        Var4     0.017713\n",
       "1    Salary_Account_HDFC Bank     0.016810\n",
       "17                     Var2_G     0.014285\n",
       "8   Salary_Account_ICICI Bank     0.014061\n",
       "9                  City_Delhi     0.011744\n",
       "24                 City_Other     0.011261\n",
       "16                Filled_Form     0.010321\n",
       "15             City_Bengaluru     0.009457"
      ]
     },
     "execution_count": 106,
     "metadata": {},
     "output_type": "execute_result"
    }
   ],
   "source": [
    "results = pd.DataFrame()\n",
    "results['columns'] = X_train.columns\n",
    "results['importances'] = feature_importances\n",
    "results.sort_values(by='importances',ascending=False,inplace=True)\n",
    "\n",
    "results[:20]"
   ]
  },
  {
   "cell_type": "markdown",
   "metadata": {},
   "source": [
    "Do najbardziej istotnych zmiennych w wybranym modelu należą Monthly_Income, age, Existing_EMI. Obecnośc tych zmiennych w czołówce intuicyjnie wydaje się być uzasadniona biznesowo. Wsród najbardziej istotnych zmiennych znalazła się jedna ze zmiennych z nieznaną definicją - Var5, co pokazuje, że uzwględnienie tej zmiennej okazało się dobrym pomysłem."
   ]
  },
  {
   "cell_type": "markdown",
   "metadata": {},
   "source": [
    "### Podsumowanie\n",
    "\n",
    "Model wybrany jako najlepszy charakteryzuje się dosyć słabą zdolnością predykcyjną. W kolejnych krokach pracy nad usprawnieniem modelu można przeprowadzić bardziej zaawansowaną optymalizację hiperparametrów lub pomyśleć nad innym przekształceniem zmiennych objaśniających. W przeprowadzonej analizie wykorzystano metryki takie takie jak f1, recall, precision, ponieważ za cel do optymalizacji uznano poprawne wykrywanie wartości 1. W porównaniu do poprzedniej wersji projektu, gdzie nie stosowano selekcji zmiennych, uzyskano wyższą wartość miary recall przy podobnych wartościach f1 i precision."
   ]
  },
  {
   "cell_type": "code",
   "execution_count": null,
   "metadata": {},
   "outputs": [],
   "source": []
  }
 ],
 "metadata": {
  "kernelspec": {
   "display_name": "Python 3",
   "language": "python",
   "name": "python3"
  },
  "language_info": {
   "codemirror_mode": {
    "name": "ipython",
    "version": 3
   },
   "file_extension": ".py",
   "mimetype": "text/x-python",
   "name": "python",
   "nbconvert_exporter": "python",
   "pygments_lexer": "ipython3",
   "version": "3.6.5"
  }
 },
 "nbformat": 4,
 "nbformat_minor": 2
}
